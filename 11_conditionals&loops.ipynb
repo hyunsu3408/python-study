{
 "cells": [
  {
   "cell_type": "markdown",
   "id": "63f76c40",
   "metadata": {},
   "source": [
    "# if"
   ]
  },
  {
   "cell_type": "code",
   "execution_count": null,
   "id": "aa716d31",
   "metadata": {},
   "outputs": [
    {
     "name": "stdout",
     "output_type": "stream",
     "text": [
      "우산을 챙기세요\n"
     ]
    }
   ],
   "source": [
    "weather = \"비\"\n",
    "\n",
    "# if 조건 :\n",
    "#     실행 명령문\n",
    "\n",
    "if weather == \"비\":\n",
    "    print(\"우산을 챙기세요\")\n",
    "    \n",
    "elif weather == \"미세먼지\":\n",
    "    print(\"마스크를 챙기세요\")\n",
    "    \n",
    "else:\n",
    "    print(\"준비물 필요 없어요\")"
   ]
  },
  {
   "cell_type": "code",
   "execution_count": 6,
   "id": "7937dc6a",
   "metadata": {},
   "outputs": [
    {
     "name": "stdout",
     "output_type": "stream",
     "text": [
      "우산을 챙기세요\n"
     ]
    }
   ],
   "source": [
    "weather = input(\"오늘 날씨는 어떄요?\") # 사용자의 입력을 기다림\n",
    "\n",
    "if weather == \"비\" or weather == \"눈\":\n",
    "    print(\"우산을 챙기세요\")\n",
    "    \n",
    "elif weather == \"미세먼지\":\n",
    "    print(\"마스크를 챙기세요\")\n",
    "    \n",
    "else:\n",
    "    print(\"준비물 필요 없어요\")"
   ]
  },
  {
   "cell_type": "code",
   "execution_count": 10,
   "id": "eee9e3ff",
   "metadata": {},
   "outputs": [
    {
     "name": "stdout",
     "output_type": "stream",
     "text": [
      "너무 추워요. 나가지 마세요\n"
     ]
    }
   ],
   "source": [
    "temp = int(input(\"기온은 어때요?\"))\n",
    "if 30<= temp:\n",
    "    print(\"너무 더워요. 나가지 마세요\")\n",
    "    \n",
    "elif 10 <= temp and temp < 30:\n",
    "    print(\"괜찮은 날씨에요\")\n",
    "\n",
    "elif 0<= temp < 10:\n",
    "    print(\"외투를 챙기세요\")\n",
    "\n",
    "else :\n",
    "    print(\"너무 추워요. 나가지 마세요\")"
   ]
  },
  {
   "cell_type": "markdown",
   "id": "7a7969ce",
   "metadata": {},
   "source": [
    "# for (반복문)"
   ]
  },
  {
   "cell_type": "code",
   "execution_count": 19,
   "id": "9bc4831b",
   "metadata": {},
   "outputs": [
    {
     "name": "stdout",
     "output_type": "stream",
     "text": [
      "대기번호 : 1\n",
      "대기번호 : 2\n",
      "대기번호 : 3\n",
      "대기번호 : 4\n"
     ]
    }
   ],
   "source": [
    "# print(\"대기번호 :1\")\n",
    "# print(\"대기번호 :2\")\n",
    "# print(\"대기번호 :3\")\n",
    "# print(\"대기번호 :4\")\n",
    "\n",
    "for waiting_no in range(1,5):\n",
    "    print(\"대기번호 : {0}\".format(waiting_no))"
   ]
  },
  {
   "cell_type": "code",
   "execution_count": null,
   "id": "416e10b4",
   "metadata": {},
   "outputs": [
    {
     "name": "stdout",
     "output_type": "stream",
     "text": [
      "아이언맨,커피가 준비 되었습니다.\n",
      "토르,커피가 준비 되었습니다.\n",
      "그루트,커피가 준비 되었습니다.\n"
     ]
    }
   ],
   "source": [
    "starbucks = [\"아이언맨\",\"토르\",\"그루트\"]\n",
    "for customer in starbucks:\n",
    "    print(\"{0} ,커피가 준비 되었습니다.\".format(customer))"
   ]
  },
  {
   "cell_type": "markdown",
   "id": "f5ccc22e",
   "metadata": {},
   "source": [
    "# while"
   ]
  },
  {
   "cell_type": "code",
   "execution_count": 22,
   "id": "fa987e92",
   "metadata": {},
   "outputs": [
    {
     "name": "stdout",
     "output_type": "stream",
     "text": [
      "토르, 커피가 준비 되었습니다. 5 번 남았어요\n",
      "토르, 커피가 준비 되었습니다. 4 번 남았어요\n",
      "토르, 커피가 준비 되었습니다. 3 번 남았어요\n",
      "토르, 커피가 준비 되었습니다. 2 번 남았어요\n",
      "토르, 커피가 준비 되었습니다. 1 번 남았어요\n",
      "커피는 폐기 처분되었습니다\n"
     ]
    }
   ],
   "source": [
    "customer = \"토르\"\n",
    "index = 5\n",
    "\n",
    "while index >= 1:\n",
    "    print(\"{0}, 커피가 준비 되었습니다. {1} 번 남았어요\".format(customer,index))\n",
    "    index -=1\n",
    "    if index == 0:\n",
    "        print(\"커피는 폐기 처분되었습니다\")"
   ]
  },
  {
   "cell_type": "code",
   "execution_count": 10,
   "id": "f5e5dad5",
   "metadata": {},
   "outputs": [
    {
     "name": "stdout",
     "output_type": "stream",
     "text": [
      "토르, 커피가 준비 되었습니다.\n",
      "토르, 커피가 준비 되었습니다.\n",
      "토르, 커피가 준비 되었습니다.\n",
      "토르, 커피가 준비 되었습니다.\n",
      "토르, 커피가 준비 되었습니다.\n",
      "토르, 커피가 준비 되었습니다.\n",
      "토르, 커피가 준비 되었습니다.\n",
      "토르, 커피가 준비 되었습니다.\n",
      "토르, 커피가 준비 되었습니다.\n"
     ]
    }
   ],
   "source": [
    "customer = \"토르\"\n",
    "person = \"Unknown\"\n",
    "\n",
    "while person != customer : \n",
    "    print(\"{0}, 커피가 준비 되었습니다.\".format(customer))\n",
    "    person = input(\"이름이 어떻게 되세요?\")"
   ]
  },
  {
   "cell_type": "markdown",
   "id": "1039d0a3",
   "metadata": {},
   "source": [
    "# continue & break|"
   ]
  },
  {
   "cell_type": "code",
   "execution_count": null,
   "id": "d7210b0b",
   "metadata": {},
   "outputs": [
    {
     "name": "stdout",
     "output_type": "stream",
     "text": [
      "1, 책을 읽어줘\n",
      "3, 책을 읽어줘\n",
      "4, 책을 읽어줘\n",
      "6, 책을 읽어줘\n",
      "오늘 수업 여기까지.7는 교무실로\n"
     ]
    }
   ],
   "source": [
    "absent = [2,5]\n",
    "no_book = [7]\n",
    "for student in range(1,11):\n",
    "    if student in absent:\n",
    "        continue # 밑에 문장을 실행x 다시 처음부터\n",
    "    elif student in no_book:\n",
    "        print(\"오늘 수업 여기까지.{0}는 교무실로\".format(student))\n",
    "        break # 반복문을 끝내버림\n",
    "    print(\"{0}, 책을 읽어줘\".format(student))\n"
   ]
  },
  {
   "cell_type": "markdown",
   "id": "d5fe56ae",
   "metadata": {},
   "source": [
    "# 한 줄 for문"
   ]
  },
  {
   "cell_type": "code",
   "execution_count": 8,
   "id": "8ae35bf2",
   "metadata": {},
   "outputs": [
    {
     "name": "stdout",
     "output_type": "stream",
     "text": [
      "[1, 2, 3, 4, 5]\n",
      "[101, 102, 103, 104, 105]\n",
      "[8, 4, 10]\n",
      "['IRON MAN', 'THOR', 'I AM GROOT']\n"
     ]
    }
   ],
   "source": [
    "# 출석번호가 1,2,3,4 앞에 100을 붙이기로 함\n",
    "students = [1,2,3,4,5]\n",
    "print(students)\n",
    "\n",
    "students = [i+100 for i in students]\n",
    "print(students)\n",
    "\n",
    "# 학생 이름을 길이로 변환\n",
    "students = [\"Iron man\",\"Thor\",\"I am groot\"]\n",
    "students = [len(i) for i in students]\n",
    "print(students)\n",
    "\n",
    "# 학생 이름을 대문자로 변환\n",
    "students = [\"Iron man\",\"Thor\",\"I am groot\"]\n",
    "students = [i.upper() for i in students]\n",
    "print(students)"
   ]
  }
 ],
 "metadata": {
  "kernelspec": {
   "display_name": "Python 3",
   "language": "python",
   "name": "python3"
  },
  "language_info": {
   "codemirror_mode": {
    "name": "ipython",
    "version": 3
   },
   "file_extension": ".py",
   "mimetype": "text/x-python",
   "name": "python",
   "nbconvert_exporter": "python",
   "pygments_lexer": "ipython3",
   "version": "3.11.7"
  }
 },
 "nbformat": 4,
 "nbformat_minor": 5
}
