{
 "cells": [
  {
   "cell_type": "markdown",
   "id": "f9b67e14",
   "metadata": {},
   "source": [
    "## 깃허브 변경 및 추가 명령어"
   ]
  },
  {
   "cell_type": "markdown",
   "id": "97cfe2e1",
   "metadata": {},
   "source": [
    "git add .  \n",
    "git commit -m \"변경 내용 저장\"  \n",
    "git push  "
   ]
  },
  {
   "cell_type": "markdown",
   "id": "e46d6ab7",
   "metadata": {},
   "source": [
    "# 깃허브 레포지토리에 추가"
   ]
  },
  {
   "cell_type": "markdown",
   "id": "d397006f",
   "metadata": {},
   "source": [
    "git init  \n",
    "git add .  \n",
    "git commit -m \"내용\"\n",
    "git remote add origin https://github.com/아이디/저장소이름.git  \n",
    "git branch -M main\n",
    "git push -u origin main"
   ]
  },
  {
   "cell_type": "markdown",
   "id": "a50b8682",
   "metadata": {},
   "source": [
    "# Mark Down 명령어\n",
    "줄 끝에 스페이스 2개+ 엔터 -> 줄바꿈"
   ]
  },
  {
   "cell_type": "markdown",
   "id": "3c01f3c0",
   "metadata": {},
   "source": []
  }
 ],
 "metadata": {
  "kernelspec": {
   "display_name": "Python 3",
   "language": "python",
   "name": "python3"
  },
  "language_info": {
   "codemirror_mode": {
    "name": "ipython",
    "version": 3
   },
   "file_extension": ".py",
   "mimetype": "text/x-python",
   "name": "python",
   "nbconvert_exporter": "python",
   "pygments_lexer": "ipython3",
   "version": "3.11.7"
  }
 },
 "nbformat": 4,
 "nbformat_minor": 5
}
