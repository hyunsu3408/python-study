{
 "cells": [
  {
   "cell_type": "markdown",
   "id": "3e31678a",
   "metadata": {},
   "source": [
    "# 클래스"
   ]
  },
  {
   "cell_type": "code",
   "execution_count": null,
   "id": "a8d337de",
   "metadata": {},
   "outputs": [
    {
     "name": "stdout",
     "output_type": "stream",
     "text": [
      "마린유닛이 생성되었습니다.\n",
      "체력 40, 공격력 5\n",
      "\n",
      "탱크유닛이 생성되었습니다.\n",
      "체력 150, 공격력 35\n",
      "\n",
      "마린 : 1시 방향으로 적군을 공격합니다. [공격력: 5]\n",
      "탱크 : 1시 방향으로 적군을 공격합니다. [공격력: 35]\n",
      "탱크 : 1시 방향으로 적군을 공격합니다. [공격력: 35]\n"
     ]
    }
   ],
   "source": [
    "# 마린 : 공격 유닛, 총을 쏠수 있음\n",
    "\n",
    "name = \"마린\" # 유닛의 이름\n",
    "hp = 40 # 유닛의 체력\n",
    "damage = 5 # 유닛의 공격력\n",
    "\n",
    "print(f\"{name}유닛이 생성되었습니다.\")\n",
    "print(f\"체력 {hp}, 공격력 {damage}\\n\")\n",
    "\n",
    "# 탱크 : 공격유닛 , 포를 쏜다\n",
    "tank_name = \"탱크\"\n",
    "tank_hp = 150\n",
    "tank_damage = 35\n",
    "\n",
    "print(f\"{tank_name}유닛이 생성되었습니다.\")\n",
    "print(f\"체력 {tank_hp}, 공격력 {tank_damage}\\n\")\n",
    "\n",
    "def attack(name,location,damage):\n",
    "    print(\"{0} : {1} 방향으로 적군을 공격합니다. [공격력: {2}]\".format(name,location,damage))\n",
    "\n",
    "tank2_name = \"탱크\"\n",
    "tank2_hp = 150\n",
    "tank2_damage = 35\n",
    "\n",
    "attack(name, \"1시\",damage)\n",
    "attack(tank_name, \"1시\",tank_damage)\n",
    "attack(tank2_name, \"1시\",tank2_damage)"
   ]
  },
  {
   "cell_type": "code",
   "execution_count": 1,
   "id": "2da27254",
   "metadata": {},
   "outputs": [],
   "source": [
    "# 객체 : 클래스로부터 만들어진 실제 사용 가능한 데이터\n",
    "# 클래스 : 데이터 구조와 동작을 정의하는 설계도"
   ]
  },
  {
   "cell_type": "markdown",
   "id": "7b614ecd",
   "metadata": {},
   "source": [
    "# init"
   ]
  },
  {
   "cell_type": "code",
   "execution_count": null,
   "id": "cb63047b",
   "metadata": {},
   "outputs": [],
   "source": [
    "# 클래스의 생성자로, 객체가 생성될 때 자동으로\n",
    "# 호출되는 메소드\n",
    "# __init__ 형태\n",
    "# 객체 생성 시 자동 실행\n",
    "# self는 __init__()에서 초기화한 객체의 멤버 변수로\n",
    "# 클래스 안의 다른 모든 메소드에서 self를 통해 접근 가능\n"
   ]
  },
  {
   "cell_type": "markdown",
   "id": "93a97196",
   "metadata": {},
   "source": [
    "# 멤버 변수"
   ]
  },
  {
   "cell_type": "code",
   "execution_count": null,
   "id": "dbec887b",
   "metadata": {},
   "outputs": [],
   "source": [
    "# 클래스 안에서 정의된 변수로, 객체마다 독립적인 값을 가진다.\n",
    "# self. 로 선언한다.\n",
    "# __init__ 에서 주로 생성함. 객체 생성 시 초기화됨."
   ]
  },
  {
   "cell_type": "markdown",
   "id": "7808df90",
   "metadata": {},
   "source": [
    "# 메서드"
   ]
  },
  {
   "cell_type": "code",
   "execution_count": null,
   "id": "58f01d0a",
   "metadata": {},
   "outputs": [],
   "source": [
    "# 메소드는 클래스 내부에 정의된 함수로\n",
    "# 그 객체가 사용할 수 있는 동작을 정의함.\n",
    "# self -> 호출한 객체 자신을 가리킴\n",
    "# 호출 방법 : 객체.메소드() 형식으로 사용\n",
    "# 멤버 변수 접근 : 메서드 안에서 self.변수명으로 객체의 속성 접근 가능"
   ]
  },
  {
   "cell_type": "markdown",
   "id": "f6db60d7",
   "metadata": {},
   "source": [
    "# 상속"
   ]
  },
  {
   "cell_type": "code",
   "execution_count": null,
   "id": "97033113",
   "metadata": {},
   "outputs": [],
   "source": [
    "# 상속이란 부모 클래스의 속성과 기능을 자식 클래스가 물려 받는 것\n",
    "# 상속 형태 : class A (B)\n",
    "# 다중 상속 : 여러 부모 클래스를 동시에 상속\n",
    "# 상속 형태 : class A (B,C)\n",
    "\n",
    "# 부모의 생성자나 메서드 호출 : super().__init__()"
   ]
  }
 ],
 "metadata": {
  "kernelspec": {
   "display_name": "Python 3",
   "language": "python",
   "name": "python3"
  },
  "language_info": {
   "codemirror_mode": {
    "name": "ipython",
    "version": 3
   },
   "file_extension": ".py",
   "mimetype": "text/x-python",
   "name": "python",
   "nbconvert_exporter": "python",
   "pygments_lexer": "ipython3",
   "version": "3.11.7"
  }
 },
 "nbformat": 4,
 "nbformat_minor": 5
}
