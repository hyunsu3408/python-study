{
 "cells": [
  {
   "cell_type": "markdown",
   "id": "76df84f3",
   "metadata": {},
   "source": [
    "# Class 에서 pass 사용"
   ]
  },
  {
   "cell_type": "markdown",
   "id": "950d9d2d",
   "metadata": {},
   "source": [
    "class BuildingUnit(Unit):\n",
    "    def __init__(self,name,hp,location):\n",
    "        pass # 아무것도 안하고 넘어가는 것\n",
    "\n",
    "# 서플라이 : 건물 , 1개 건물 = 8 유닛\n",
    "supply_depot = BuildingUnit(\"서플라이\",500,\"7시\")\n",
    "\n",
    "def game_start():\n",
    "    print(\"[알림] 새로운 게임을 시작합니다\")\n",
    "    \n",
    "def game_over():\n",
    "    pass\n",
    "\n",
    "game_start()\n",
    "game_over()"
   ]
  }
 ],
 "metadata": {
  "language_info": {
   "name": "python"
  }
 },
 "nbformat": 4,
 "nbformat_minor": 5
}
