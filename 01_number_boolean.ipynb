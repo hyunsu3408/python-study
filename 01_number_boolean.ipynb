{
 "cells": [
  {
   "cell_type": "markdown",
   "id": "93efd65d",
   "metadata": {},
   "source": [
    "# 숫자형"
   ]
  },
  {
   "cell_type": "code",
   "execution_count": 23,
   "id": "aa145521",
   "metadata": {},
   "outputs": [
    {
     "name": "stdout",
     "output_type": "stream",
     "text": [
      "5\n",
      "8\n"
     ]
    }
   ],
   "source": [
    "print(5)\n",
    "print(3+5)\n"
   ]
  },
  {
   "cell_type": "markdown",
   "id": "e0438fb5",
   "metadata": {},
   "source": [
    "# boolean 형"
   ]
  },
  {
   "cell_type": "code",
   "execution_count": 16,
   "id": "b3035070",
   "metadata": {},
   "outputs": [
    {
     "name": "stdout",
     "output_type": "stream",
     "text": [
      "False\n",
      "True\n",
      "True\n",
      "False\n",
      "False\n",
      "True\n"
     ]
    }
   ],
   "source": [
    "print(5>10)\n",
    "print(5<10)\n",
    "print(True)\n",
    "print(False)\n",
    "print(not True)\n",
    "print(not False)"
   ]
  }
 ],
 "metadata": {
  "language_info": {
   "name": "python"
  }
 },
 "nbformat": 4,
 "nbformat_minor": 5
}
