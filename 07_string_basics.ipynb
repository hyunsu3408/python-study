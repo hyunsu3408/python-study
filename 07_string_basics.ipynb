{
 "cells": [
  {
   "cell_type": "markdown",
   "id": "cd05a5fe",
   "metadata": {},
   "source": [
    "# 문자열"
   ]
  },
  {
   "cell_type": "code",
   "execution_count": 3,
   "id": "ba6039de",
   "metadata": {},
   "outputs": [
    {
     "name": "stdout",
     "output_type": "stream",
     "text": [
      "나는 소년입니다\n",
      "파이썬은 쉬워요\n",
      "\n",
      "나는 소년이고,\n",
      "파이썬은 어려워요\n",
      "\n"
     ]
    }
   ],
   "source": [
    "sentence = '나는 소년입니다'\n",
    "print(sentence)\n",
    "sentence2 = \"파이썬은 쉬워요\"\n",
    "print(sentence2)\n",
    "sentence3= \"\"\"\n",
    "나는 소년이고,\n",
    "파이썬은 어려워요\n",
    "\"\"\"\n",
    "print(sentence3)"
   ]
  },
  {
   "cell_type": "markdown",
   "id": "53426864",
   "metadata": {},
   "source": [
    "# 슬라이싱"
   ]
  },
  {
   "cell_type": "code",
   "execution_count": null,
   "id": "52eba055",
   "metadata": {},
   "outputs": [
    {
     "name": "stdout",
     "output_type": "stream",
     "text": [
      "성별 : 1\n",
      "년도 : 99\n",
      "월 : 01\n",
      "일 : 21\n",
      "생년월일 : 990121\n",
      "뒤 7자리 : 1234567\n",
      "뒤 7자리(뒤에서부터) : 1234567\n"
     ]
    }
   ],
   "source": [
    "jumin = \"990121-1234567\"\n",
    "\n",
    "# 7번째 정보 가져오기\n",
    "print( \"성별 : \" + jumin[7]) # index 0번 부터 시작\n",
    "\n",
    "# 0번째 부터 2번째 미만 값까지 가져오기 (0~1)\n",
    "print(\"년도 : \"+ jumin[0:2])\n",
    "\n",
    "#월,일 가져오기\n",
    "print(\"월 : \"+ jumin[2:4])\n",
    "print(\"일 : \"+ jumin[4:6])\n",
    "\n",
    "#처음부터 6번째 미만까지지\n",
    "print(\"생년월일 : \"+ jumin[:6])\n",
    "\n",
    "#7번째 부터 끝까지\n",
    "print(\"뒤 7자리 : \"+ jumin[7:])\n",
    "print(\"뒤 7자리(뒤에서부터) : \"+ jumin[-7:])\n"
   ]
  }
 ],
 "metadata": {
  "kernelspec": {
   "display_name": "Python 3",
   "language": "python",
   "name": "python3"
  },
  "language_info": {
   "codemirror_mode": {
    "name": "ipython",
    "version": 3
   },
   "file_extension": ".py",
   "mimetype": "text/x-python",
   "name": "python",
   "nbconvert_exporter": "python",
   "pygments_lexer": "ipython3",
   "version": "3.11.7"
  }
 },
 "nbformat": 4,
 "nbformat_minor": 5
}
