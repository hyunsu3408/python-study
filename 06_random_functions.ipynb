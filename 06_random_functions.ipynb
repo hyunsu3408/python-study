{
 "cells": [
  {
   "cell_type": "markdown",
   "id": "49f8b2e4",
   "metadata": {},
   "source": [
    "# 랜덤 함수"
   ]
  },
  {
   "cell_type": "code",
   "execution_count": 10,
   "id": "ece85eb2",
   "metadata": {},
   "outputs": [],
   "source": [
    "from random import *"
   ]
  },
  {
   "cell_type": "code",
   "execution_count": 13,
   "id": "2eb67e84",
   "metadata": {},
   "outputs": [
    {
     "name": "stdout",
     "output_type": "stream",
     "text": [
      "0.4175909235495505\n"
     ]
    }
   ],
   "source": [
    "# 실행할 때 마다 랜덤 숫자\n",
    "# 숫자의 범위는 0.0 ~ 1.0 사이\n",
    "print(random()) "
   ]
  },
  {
   "cell_type": "code",
   "execution_count": null,
   "id": "68ab1154",
   "metadata": {},
   "outputs": [
    {
     "name": "stdout",
     "output_type": "stream",
     "text": [
      "9.617005269502236\n",
      "4\n"
     ]
    }
   ],
   "source": [
    "print((random()* 10))\n",
    "# 정수값만 보고 싶을 때\n",
    "print(int(random()* 10))"
   ]
  },
  {
   "cell_type": "code",
   "execution_count": 24,
   "id": "52adc8a2",
   "metadata": {},
   "outputs": [
    {
     "name": "stdout",
     "output_type": "stream",
     "text": [
      "4\n",
      "21\n",
      "7\n",
      "27\n"
     ]
    }
   ],
   "source": [
    "print(int(random()* 10)+1) # 1~10이하의 임의값 생성\n",
    "# 로또 값 생성\n",
    "print(int(random()*45)+1)\n",
    "print(randrange(1,46)) # 1~46 미만의 임의 값 생성\n",
    "print(randint(1,45)) # 1~45이하의 임의 값 생성"
   ]
  }
 ],
 "metadata": {},
 "nbformat": 4,
 "nbformat_minor": 5
}
