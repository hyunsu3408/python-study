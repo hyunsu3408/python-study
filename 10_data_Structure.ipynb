{
 "cells": [
  {
   "cell_type": "markdown",
   "id": "b9c8b496",
   "metadata": {},
   "source": [
    "# 리스트"
   ]
  },
  {
   "cell_type": "code",
   "execution_count": 22,
   "id": "d393c268",
   "metadata": {},
   "outputs": [
    {
     "name": "stdout",
     "output_type": "stream",
     "text": [
      "[10, 20, 30]\n",
      "1\n",
      "['유재석', '조세호', '박명수', '하하']\n",
      "['유재석', '정형돈', '조세호', '박명수', '하하']\n",
      "하하\n",
      "['유재석', '정형돈', '조세호', '박명수']\n",
      "['유재석', '정형돈', '조세호', '박명수', '유재석']\n",
      "2\n"
     ]
    }
   ],
   "source": [
    "#지하철 칸별로 10명,20명, 30명\n",
    "\n",
    "subway1 = 10\n",
    "subway2 = 20\n",
    "subway3 = 30\n",
    "\n",
    "subway = [10,20,30]\n",
    "print(subway)\n",
    "\n",
    "subway = [\"유재석\",\"조세호\",\"박명수\"]\n",
    "print(subway.index(\"조세호\"))\n",
    "\n",
    "# 하하씨가 다음 정류장에서 다음 칸에 탐\n",
    "subway.append(\"하하\")\n",
    "print(subway)\n",
    "\n",
    "# 정형돈씨를 유재석/ 조세호 사이에 태워보기\n",
    "subway.insert(1,\"정형돈\")\n",
    "print(subway)\n",
    "\n",
    "# 지하철에 있는 사람을 한명 씩 뒤에서 꺼냄\n",
    "print(subway.pop())\n",
    "print(subway)\n",
    "\n",
    "subway.append(\"유재석\")\n",
    "print(subway)\n",
    "print(subway.count(\"유재석\"))"
   ]
  },
  {
   "cell_type": "code",
   "execution_count": 28,
   "id": "cb6fab02",
   "metadata": {},
   "outputs": [
    {
     "name": "stdout",
     "output_type": "stream",
     "text": [
      "[1, 2, 3, 4, 5]\n",
      "[5, 4, 3, 2, 1]\n",
      "[]\n",
      "['안녕', 20, True]\n",
      "[5, 2, 4, 3, 1, '안녕', 20, True]\n"
     ]
    }
   ],
   "source": [
    "# 정렬\n",
    "num_list = [5,2,4,3,1]\n",
    "num_list.sort()\n",
    "print(num_list)\n",
    "\n",
    "# 뒤집기기\n",
    "num_list.reverse()\n",
    "print(num_list)\n",
    "\n",
    "# 모두 비우기\n",
    "num_list.clear()\n",
    "print(num_list)\n",
    "\n",
    "# 다양한 자료형 함께 사용\n",
    "mix_list = [\"안녕\",20,True]\n",
    "print(mix_list)\n",
    "\n",
    "# 리스트 확장\n",
    "num_list = [5,2,4,3,1]\n",
    "num_list.extend(mix_list)\n",
    "print(num_list)"
   ]
  },
  {
   "cell_type": "markdown",
   "id": "3709f5a7",
   "metadata": {},
   "source": [
    "# 사전"
   ]
  },
  {
   "cell_type": "code",
   "execution_count": 41,
   "id": "b2505454",
   "metadata": {},
   "outputs": [
    {
     "name": "stdout",
     "output_type": "stream",
     "text": [
      "유재석\n",
      "김태호\n",
      "유재석\n",
      "None\n",
      "사용 가능\n",
      "True\n",
      "False\n"
     ]
    }
   ],
   "source": [
    "# 키와 값이 한쌍, 중복이 허용되지 않음\n",
    "\n",
    "# key, value\n",
    "cabinet = {3:\"유재석\",100:\"김태호\"}\n",
    "print(cabinet[3])\n",
    "print(cabinet[100])\n",
    "\n",
    "print(cabinet.get(3))\n",
    "#print(cabinet[5]) -> key error 오류\n",
    "print(cabinet.get(5)) # -> None 반환\n",
    "\n",
    "# 해당 key가 없으면 다음 값을 사용\n",
    "print(cabinet.get(5,\"사용 가능\"))\n",
    "\n",
    "# key가 있는지 확인하는 법\n",
    "print(3 in cabinet) # True\n",
    "print(5 in cabinet) # False"
   ]
  },
  {
   "cell_type": "code",
   "execution_count": 50,
   "id": "cc33576f",
   "metadata": {},
   "outputs": [
    {
     "name": "stdout",
     "output_type": "stream",
     "text": [
      "유재석\n",
      "김태호\n",
      "{'A-3': '유재석', 'B-100': '김태호'}\n",
      "{'A-3': '김종국', 'B-100': '김태호', 'C-20': '조세호'}\n",
      "{'B-100': '김태호', 'C-20': '조세호'}\n",
      "dict_keys(['B-100', 'C-20'])\n",
      "dict_values(['김태호', '조세호'])\n",
      "dict_items([('B-100', '김태호'), ('C-20', '조세호')])\n",
      "{}\n"
     ]
    }
   ],
   "source": [
    "cabinet = {\"A-3\":\"유재석\",\"B-100\":\"김태호\"}\n",
    "print(cabinet[\"A-3\"])\n",
    "print(cabinet[\"B-100\"])\n",
    "\n",
    "# key 값 업데이트 및 추가\n",
    "print(cabinet)\n",
    "cabinet[\"A-3\"]= \"김종국\"\n",
    "cabinet[\"C-20\"]= \"조세호\"\n",
    "print(cabinet)\n",
    "\n",
    "# 키,값 삭제\n",
    "del cabinet[\"A-3\"]\n",
    "print(cabinet)\n",
    "\n",
    "# key만 출력\n",
    "print(cabinet.keys())\n",
    "\n",
    "# value만 출력\n",
    "print(cabinet.values())\n",
    "\n",
    "# key, value 둘 다 출력\n",
    "print(cabinet.items())\n",
    "\n",
    "# 딕셔너리 비우기\n",
    "cabinet.clear()\n",
    "print(cabinet)"
   ]
  },
  {
   "cell_type": "markdown",
   "id": "fc4f8a5d",
   "metadata": {},
   "source": [
    "# 튜플"
   ]
  },
  {
   "cell_type": "code",
   "execution_count": 53,
   "id": "965d3656",
   "metadata": {},
   "outputs": [
    {
     "name": "stdout",
     "output_type": "stream",
     "text": [
      "돈까스\n",
      "치즈까스\n",
      "현수 20 코딩\n"
     ]
    }
   ],
   "source": [
    "# 튜플은 내용 변경이나 추가 x\n",
    "\n",
    "menu = (\"돈까스\",\"치즈까스\")\n",
    "print(menu[0])\n",
    "print(menu[1])\n",
    "\n",
    "# menu.add(\"생선까스\") -> 오류, 추가x\n",
    "\n",
    "name,age,hobby = (\"현수\",20,\"코딩\")\n",
    "print(name,age,hobby)"
   ]
  },
  {
   "cell_type": "markdown",
   "id": "bb73bcd3",
   "metadata": {},
   "source": [
    "# 세트"
   ]
  },
  {
   "cell_type": "code",
   "execution_count": 64,
   "id": "9501e46c",
   "metadata": {},
   "outputs": [
    {
     "name": "stdout",
     "output_type": "stream",
     "text": [
      "{1, 2, 3}\n",
      "{'유재석'}\n",
      "{'유재석'}\n",
      "{'양세형', '박명수', '김태호', '유재석'}\n",
      "{'양세형', '박명수', '김태호', '유재석'}\n",
      "{'양세형', '김태호'}\n",
      "{'양세형', '김태호'}\n",
      "{'박명수', '유재석', '김태호'}\n",
      "{'양세형', '유재석'}\n"
     ]
    }
   ],
   "source": [
    "# 집합 (set) \n",
    "# 중복이 안되고 순서가 없음\n",
    "\n",
    "my_set = {1,2,3,3,3}\n",
    "print(my_set)\n",
    "\n",
    "java={\"유재석\",\"김태호\",\"양세형\"}\n",
    "python = set([\"유재석\",\"박명수\"]) #리스트 후 set으로 감싸도 됨\n",
    "\n",
    "# 교집합 (java python 모두 할 수 있는 사람)\n",
    "print(java & python)\n",
    "print(java.intersection(python))\n",
    "\n",
    "# 합집합\n",
    "print(java | python)\n",
    "print(java.union(python))\n",
    "\n",
    "# 차집합 (java 가능 python 불가능 구하기)\n",
    "print(java.difference(python))\n",
    "print(java-python)\n",
    "\n",
    "# python 할 줄 아는 사람 늘었음\n",
    "python.add(\"김태호\")\n",
    "print(python)\n",
    "\n",
    "# java를 잊은 사람\n",
    "java.remove(\"김태호\")\n",
    "print(java)"
   ]
  },
  {
   "cell_type": "markdown",
   "id": "9ba1f564",
   "metadata": {},
   "source": [
    "# 자료구조의 변경"
   ]
  },
  {
   "cell_type": "code",
   "execution_count": 69,
   "id": "a891b051",
   "metadata": {},
   "outputs": [
    {
     "name": "stdout",
     "output_type": "stream",
     "text": [
      "{'커피', '우유', '주스'} <class 'set'>\n",
      "['커피', '우유', '주스'] <class 'list'>\n",
      "('커피', '우유', '주스') <class 'tuple'>\n",
      "{'커피', '우유', '주스'} <class 'set'>\n"
     ]
    }
   ],
   "source": [
    "menu = {\"커피\",\"우유\",\"주스\"}\n",
    "print(menu,type(menu))\n",
    "\n",
    "menu = list(menu)\n",
    "print(menu,type(menu))\n",
    "\n",
    "menu = tuple(menu)\n",
    "print(menu,type(menu))\n",
    "\n",
    "menu = set(menu)\n",
    "print(menu,type(menu))"
   ]
  },
  {
   "cell_type": "code",
   "execution_count": null,
   "id": "5bf60a26",
   "metadata": {},
   "outputs": [],
   "source": []
  }
 ],
 "metadata": {
  "kernelspec": {
   "display_name": "Python 3",
   "language": "python",
   "name": "python3"
  },
  "language_info": {
   "codemirror_mode": {
    "name": "ipython",
    "version": 3
   },
   "file_extension": ".py",
   "mimetype": "text/x-python",
   "name": "python",
   "nbconvert_exporter": "python",
   "pygments_lexer": "ipython3",
   "version": "3.11.7"
  }
 },
 "nbformat": 4,
 "nbformat_minor": 5
}
