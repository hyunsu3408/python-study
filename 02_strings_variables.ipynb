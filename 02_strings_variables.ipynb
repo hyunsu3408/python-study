{
 "cells": [
  {
   "cell_type": "markdown",
   "id": "150fb09c",
   "metadata": {},
   "source": [
    "# 변수"
   ]
  },
  {
   "cell_type": "code",
   "execution_count": null,
   "id": "94968022",
   "metadata": {},
   "outputs": [
    {
     "name": "stdout",
     "output_type": "stream",
     "text": [
      "우리집 강아지의 이름은연탄이에요\n",
      "연탄이 는  4 살이며, 공놀이 을 좋아해요\n",
      "연탄이는 어른일까요? True\n"
     ]
    }
   ],
   "source": [
    "# 애완동물을 소개해주세요\n",
    "animal=\"강아지\"\n",
    "name = \"연탄이\"\n",
    "age=4\n",
    "hobby=\"산책\"\n",
    "is_adult= age>=3\n",
    "\n",
    "print(\"우리집 \" + animal + \"의 이름은\" + name + \"에요\")\n",
    "hobby= \"공놀이\"\n",
    "#print(name +\"는 \" +str(age) + \"살이며,\" + hobby+ \"을 좋아해요\")\n",
    "# +는 ,로 대체 가능하다. age는 int형이기 떄문에 str로 문자형으로 바꿔야함\n",
    "print(name,\"는 \",str(age),\"살이며,\",hobby,\"을 좋아해요\")\n",
    "print(name + \"는 어른일까요? \"+ str(is_adult))"
   ]
  }
 ],
 "metadata": {},
 "nbformat": 4,
 "nbformat_minor": 5
}
