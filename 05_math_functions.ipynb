{
 "cells": [
  {
   "cell_type": "markdown",
   "id": "11d9e9da",
   "metadata": {},
   "source": [
    "# 숫자 처리 함수"
   ]
  },
  {
   "cell_type": "code",
   "execution_count": 6,
   "id": "d0bfa14b",
   "metadata": {},
   "outputs": [
    {
     "name": "stdout",
     "output_type": "stream",
     "text": [
      "5\n",
      "16\n",
      "12\n",
      "5\n",
      "3\n",
      "4\n"
     ]
    }
   ],
   "source": [
    "print(abs(-5)) # 절대값\n",
    "print(pow(4,2)) # x1의 x2승\n",
    "print(max(5,12)) # 둘 중 큰값 반환환\n",
    "print(min(5,12)) # 둘 중 작은값 반환\n",
    "print(round(3.14)) # 반올림\n",
    "print(round(3.99))"
   ]
  },
  {
   "cell_type": "code",
   "execution_count": null,
   "id": "57abf3f8",
   "metadata": {},
   "outputs": [],
   "source": [
    "from math import *\n",
    "# math 라이브러리 사용"
   ]
  },
  {
   "cell_type": "code",
   "execution_count": 8,
   "id": "93b8f122",
   "metadata": {},
   "outputs": [
    {
     "name": "stdout",
     "output_type": "stream",
     "text": [
      "4\n",
      "4\n",
      "4.0\n"
     ]
    }
   ],
   "source": [
    "print(floor(4.99)) # 내림\n",
    "print(ceil(3.14)) # 올림\n",
    "print(sqrt(16)) # 제곱근"
   ]
  }
 ],
 "metadata": {
  "language_info": {
   "name": "python"
  }
 },
 "nbformat": 4,
 "nbformat_minor": 5
}
