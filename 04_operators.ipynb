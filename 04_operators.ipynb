{
 "cells": [
  {
   "cell_type": "markdown",
   "id": "8e89031f",
   "metadata": {},
   "source": [
    "# 연산자"
   ]
  },
  {
   "cell_type": "code",
   "execution_count": 32,
   "id": "c536b820",
   "metadata": {},
   "outputs": [
    {
     "name": "stdout",
     "output_type": "stream",
     "text": [
      "2\n",
      "1\n",
      "10\n",
      "8\n",
      "2\n",
      "1\n",
      "True\n",
      "False\n",
      "False\n",
      "True\n"
     ]
    }
   ],
   "source": [
    "print(1+1)\n",
    "print(3-2)\n",
    "print(5*2)\n",
    "\n",
    "print(2**3) # 2의 3승\n",
    "print(7%5) # 7를 5로 나누었을 때 나머지\n",
    "print(7//5) # 7를 5로 나누었을 때 몫\n",
    "\n",
    "print(10>3)\n",
    "print(4>=7)\n",
    "print(10<3)\n",
    "print(5<=5)"
   ]
  },
  {
   "cell_type": "code",
   "execution_count": 39,
   "id": "cab98236",
   "metadata": {},
   "outputs": [
    {
     "name": "stdout",
     "output_type": "stream",
     "text": [
      "True\n",
      "False\n",
      "True\n",
      "True\n",
      "False\n"
     ]
    }
   ],
   "source": [
    "print(3 == 3) # == 연산자는 같은 지 묻는 것\n",
    "print(4 == 2)\n",
    "print(4+3 == 7)\n",
    "\n",
    "print(5 != 6) # != 연산자는 안 같은지 묻는 것\n",
    "print(not(5!= 6))"
   ]
  },
  {
   "cell_type": "code",
   "execution_count": 45,
   "id": "1394c0cb",
   "metadata": {},
   "outputs": [
    {
     "name": "stdout",
     "output_type": "stream",
     "text": [
      "False\n",
      "True\n"
     ]
    }
   ],
   "source": [
    "print((3 > 4) and ( 3 < 5))\n",
    "print((3 > 0) & ( 3 < 5)) # 두 개다 만족해야 True"
   ]
  },
  {
   "cell_type": "code",
   "execution_count": 44,
   "id": "0105fff8",
   "metadata": {},
   "outputs": [
    {
     "name": "stdout",
     "output_type": "stream",
     "text": [
      "True\n",
      "False\n"
     ]
    }
   ],
   "source": [
    "print(( 3 > 0 ) or ( 3 > 5 ) ) # 둘 중 하나 만족하면 True\n",
    "print(( 3 > 4 ) | ( 3 > 5 ))"
   ]
  },
  {
   "cell_type": "code",
   "execution_count": 47,
   "id": "7edfbd89",
   "metadata": {},
   "outputs": [
    {
     "name": "stdout",
     "output_type": "stream",
     "text": [
      "True\n",
      "False\n"
     ]
    }
   ],
   "source": [
    "print( 5 > 4 > 3)\n",
    "print( 5 > 4 > 7)"
   ]
  },
  {
   "cell_type": "code",
   "execution_count": 14,
   "id": "4fdf224c",
   "metadata": {},
   "outputs": [
    {
     "name": "stdout",
     "output_type": "stream",
     "text": [
      "14\n",
      "16\n",
      "18\n",
      "36\n",
      "18.0\n",
      "16.0\n",
      "7.0\n",
      "3.0\n"
     ]
    }
   ],
   "source": [
    "number = 2 + 3 * 4\n",
    "print(number)\n",
    "number = number + 2\n",
    "print(number)\n",
    "\n",
    "number += 2 # number = number + 2 랑 동일함함\n",
    "print(number)\n",
    "\n",
    "number *= 2\n",
    "print(number)\n",
    "\n",
    "number /= 2\n",
    "print(number)\n",
    "\n",
    "number -= 2\n",
    "print(number)\n",
    "\n",
    "number %= 9\n",
    "print(number)\n",
    "\n",
    "number //= 2\n",
    "print(number)"
   ]
  },
  {
   "cell_type": "code",
   "execution_count": null,
   "id": "b1657487",
   "metadata": {},
   "outputs": [],
   "source": []
  }
 ],
 "metadata": {},
 "nbformat": 4,
 "nbformat_minor": 5
}
