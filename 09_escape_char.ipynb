{
 "cells": [
  {
   "cell_type": "markdown",
   "id": "b0f1953e",
   "metadata": {},
   "source": [
    "# 탈출 문자"
   ]
  },
  {
   "cell_type": "code",
   "execution_count": 9,
   "id": "bc510140",
   "metadata": {},
   "outputs": [
    {
     "name": "stdout",
     "output_type": "stream",
     "text": [
      "백문이 불여일견\n",
      "백견이 불여일타\n",
      "저는 '김현수'입니다.\n",
      "저는 \"김현수\"입니다.\n",
      "저는 \"김현수\"입니다.\n",
      "C:\\Users\\hyunsu\\study\n",
      "PineApple\n",
      "RedApple\n",
      "Red\tApple\n"
     ]
    }
   ],
   "source": [
    "# \\n 으로 줄바꿈\n",
    "print(\"백문이 불여일견\\n백견이 불여일타\")\n",
    "\n",
    "# 저는 \"김현수\"입니다\n",
    "# 방법 1\n",
    "# 큰 따옴표 안에 작은 따옴표 쓰기\n",
    "print(\"저는 '김현수'입니다.\")\n",
    "\n",
    "#작은 따옴표 안에 큰 따옴표 쓰기\n",
    "print('저는 \"김현수\"입니다.')\n",
    "\n",
    "# 방법 2\n",
    "# 역슬래쉬(\\) 사용\n",
    "print(\"저는 \\\"김현수\\\"입니다.\")\n",
    "\n",
    "# \\\\ : 문장 내에서 \\\n",
    "print(\"C:\\\\Users\\\\hyunsu\\\\study\")\n",
    "\n",
    "# \\r : 커서를 맨 앞으로 이동\n",
    "print(\"Red Apple\\rPine\")\n",
    "\n",
    "# \\b : 백스페이스(한 글자 삭제)\n",
    "print(\"Redd\\bApple\")\n",
    "\n",
    "# \\t : 탭\n",
    "print(\"Red\\tApple\")"
   ]
  },
  {
   "cell_type": "code",
   "execution_count": null,
   "id": "4cb79eee",
   "metadata": {},
   "outputs": [],
   "source": []
  }
 ],
 "metadata": {
  "kernelspec": {
   "display_name": "Python 3",
   "language": "python",
   "name": "python3"
  },
  "language_info": {
   "codemirror_mode": {
    "name": "ipython",
    "version": 3
   },
   "file_extension": ".py",
   "mimetype": "text/x-python",
   "name": "python",
   "nbconvert_exporter": "python",
   "pygments_lexer": "ipython3",
   "version": "3.11.7"
  }
 },
 "nbformat": 4,
 "nbformat_minor": 5
}
