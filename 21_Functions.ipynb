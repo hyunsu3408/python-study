{
 "cells": [
  {
   "cell_type": "markdown",
   "id": "b4e185cb",
   "metadata": {},
   "source": [
    "# 내장 함수"
   ]
  },
  {
   "cell_type": "code",
   "execution_count": 6,
   "id": "b9f6c4ce",
   "metadata": {},
   "outputs": [
    {
     "name": "stdout",
     "output_type": "stream",
     "text": [
      "자바는 아주 좋은 언어입니다\n"
     ]
    }
   ],
   "source": [
    "# input : 사용자의 입력을 받는 함수\n",
    "language = input(\"무슨 언어를 좋아하세요?\")\n",
    "print(f\"{language}는 아주 좋은 언어입니다\")"
   ]
  },
  {
   "cell_type": "code",
   "execution_count": 10,
   "id": "8ab81be0",
   "metadata": {},
   "outputs": [
    {
     "name": "stdout",
     "output_type": "stream",
     "text": [
      "['BPF', 'LOG4', 'NV_MAGICCONST', 'RECIP_BPF', 'Random', 'SG_MAGICCONST', 'SystemRandom', 'TWOPI', '_ONE', '_Sequence', '_Set', '__all__', '__builtins__', '__cached__', '__doc__', '__file__', '__loader__', '__name__', '__package__', '__spec__', '_accumulate', '_acos', '_bisect', '_ceil', '_cos', '_e', '_exp', '_floor', '_index', '_inst', '_isfinite', '_log', '_os', '_pi', '_random', '_repeat', '_sha512', '_sin', '_sqrt', '_test', '_test_generator', '_urandom', '_warn', 'betavariate', 'choice', 'choices', 'expovariate', 'gammavariate', 'gauss', 'getrandbits', 'getstate', 'lognormvariate', 'normalvariate', 'paretovariate', 'randbytes', 'randint', 'random', 'randrange', 'sample', 'seed', 'setstate', 'shuffle', 'triangular', 'uniform', 'vonmisesvariate', 'weibullvariate']\n",
      "['__add__', '__class__', '__class_getitem__', '__contains__', '__delattr__', '__delitem__', '__dir__', '__doc__', '__eq__', '__format__', '__ge__', '__getattribute__', '__getitem__', '__getstate__', '__gt__', '__hash__', '__iadd__', '__imul__', '__init__', '__init_subclass__', '__iter__', '__le__', '__len__', '__lt__', '__mul__', '__ne__', '__new__', '__reduce__', '__reduce_ex__', '__repr__', '__reversed__', '__rmul__', '__setattr__', '__setitem__', '__sizeof__', '__str__', '__subclasshook__', 'append', 'clear', 'copy', 'count', 'extend', 'index', 'insert', 'pop', 'remove', 'reverse', 'sort']\n",
      "['__add__', '__class__', '__contains__', '__delattr__', '__dir__', '__doc__', '__eq__', '__format__', '__ge__', '__getattribute__', '__getitem__', '__getnewargs__', '__getstate__', '__gt__', '__hash__', '__init__', '__init_subclass__', '__iter__', '__le__', '__len__', '__lt__', '__mod__', '__mul__', '__ne__', '__new__', '__reduce__', '__reduce_ex__', '__repr__', '__rmod__', '__rmul__', '__setattr__', '__sizeof__', '__str__', '__subclasshook__', 'capitalize', 'casefold', 'center', 'count', 'encode', 'endswith', 'expandtabs', 'find', 'format', 'format_map', 'index', 'isalnum', 'isalpha', 'isascii', 'isdecimal', 'isdigit', 'isidentifier', 'islower', 'isnumeric', 'isprintable', 'isspace', 'istitle', 'isupper', 'join', 'ljust', 'lower', 'lstrip', 'maketrans', 'partition', 'removeprefix', 'removesuffix', 'replace', 'rfind', 'rindex', 'rjust', 'rpartition', 'rsplit', 'rstrip', 'split', 'splitlines', 'startswith', 'strip', 'swapcase', 'title', 'translate', 'upper', 'zfill']\n"
     ]
    }
   ],
   "source": [
    "# dir : 어떤 객체를 넘겨줬을 때 그 객체가 \n",
    "# 어떤 변수와 함수를 가지고 있는지 표시\n",
    "import random\n",
    "print(dir(random))\n",
    "\n",
    "lst = [1,2,3]\n",
    "print(dir(lst))\n",
    "\n",
    "name = \"jim\"\n",
    "print(dir(name))"
   ]
  },
  {
   "cell_type": "markdown",
   "id": "4a5cd28e",
   "metadata": {},
   "source": [
    "# 외장 함수"
   ]
  },
  {
   "cell_type": "code",
   "execution_count": null,
   "id": "8ded9fb9",
   "metadata": {},
   "outputs": [],
   "source": [
    "# import를 해야만 쓸 수 있는 함수"
   ]
  },
  {
   "cell_type": "code",
   "execution_count": 16,
   "id": "c2042c1a",
   "metadata": {},
   "outputs": [
    {
     "name": "stdout",
     "output_type": "stream",
     "text": [
      "['14-2_Class.py', '14-3_Class.py', '14-4_Class.py', '14-5_Class.py', '15-1_Class.py', '15-2_Class.py', '15-3_Class.py', '15-4_Class.py', 'module.py']\n",
      "c:\\Users\\hyunsu\\study\\python\n",
      "이미 존재하는 폴더입니다\n",
      "sample_dir 폴더 삭제하였습니다\n"
     ]
    }
   ],
   "source": [
    "# glob : 경로 내의 폴더 / 파일 목록 조회(윈도우 dir)\n",
    "import glob\n",
    "print(glob.glob(\"*.py\")) # 확장자가 .py인 포든 파일\n",
    "\n",
    "# os : 운영 체재에서 제공하는 기본 기능\n",
    "import os\n",
    "print(os.getcwd()) # 현재 디렉토리\n",
    "\n",
    "folder = \"sample_dir\"\n",
    "if os.path.exists(folder):\n",
    "    print(\"이미 존재하는 폴더입니다\")\n",
    "    os.rmdir(folder)\n",
    "    print(folder,\"폴더 삭제하였습니다\")\n",
    "else:\n",
    "    os.makedirs(folder) # 폴더 생성\n",
    "    print(folder,\"폴더를 생성합니다\")"
   ]
  },
  {
   "cell_type": "code",
   "execution_count": null,
   "id": "4b85a5eb",
   "metadata": {},
   "outputs": [
    {
     "name": "stdout",
     "output_type": "stream",
     "text": [
      "['.git', '01_number_boolean.ipynb', '02_strings_variables.ipynb', '03_comments_functions.ipynb', '04_operators.ipynb', '05_math_functions.ipynb', '06_random_functions.ipynb', '07_string_basics.ipynb', '08_strings_function.ipynb', '09_escape_char.ipynb', '10_data_Structure.ipynb', '11_conditionals&loops.ipynb', '12_function.ipynb', '13_input_output.ipynb', '14-2_Class.py', '14-3_Class.py', '14-4_Class.py', '14-5_Class.py', '14_Class.ipynb', '15-1_Class.py', '15-2_Class.py', '15-3_Class.py', '15-4_Class.py', '15_pass_super.ipynb', '16_exception.ipynb', '17_module.ipynb', '18_pakage.ipynb', '19_all.ipynb', '20_pipinstall.ipynb', '21_Functions.ipynb', 'guide.ipynb', 'module.py', 'practice', 'profile.pickle', 'README.md', 'score.txt', 'study.txt', 'travel', '__pycache__']\n"
     ]
    }
   ],
   "source": [
    "print(os.listdir()) # 디렉토리내의 파일 목록"
   ]
  },
  {
   "cell_type": "code",
   "execution_count": 23,
   "id": "c62e71f1",
   "metadata": {},
   "outputs": [
    {
     "name": "stdout",
     "output_type": "stream",
     "text": [
      "time.struct_time(tm_year=2025, tm_mon=5, tm_mday=29, tm_hour=20, tm_min=5, tm_sec=26, tm_wday=3, tm_yday=149, tm_isdst=0)\n",
      "2025-05-29 20:05:26\n",
      "오늘 날짜는  2025-05-29\n",
      "우리가 만난지 100일은  2025-09-06\n"
     ]
    }
   ],
   "source": [
    "# time : 시간 관련 함수\n",
    "import time\n",
    "print(time.localtime())\n",
    "print(time.strftime(\"%Y-%m-%d %H:%M:%S\"))\n",
    "\n",
    "import datetime\n",
    "print(\"오늘 날짜는 \",datetime.date.today())\n",
    "today = datetime.date.today()\n",
    "td = datetime.timedelta(days=100) # 100일 뒤\n",
    "print(\"우리가 만난지 100일은 \",today + td)"
   ]
  },
  {
   "cell_type": "code",
   "execution_count": null,
   "id": "2744d09b",
   "metadata": {},
   "outputs": [],
   "source": []
  }
 ],
 "metadata": {
  "kernelspec": {
   "display_name": "base",
   "language": "python",
   "name": "python3"
  },
  "language_info": {
   "codemirror_mode": {
    "name": "ipython",
    "version": 3
   },
   "file_extension": ".py",
   "mimetype": "text/x-python",
   "name": "python",
   "nbconvert_exporter": "python",
   "pygments_lexer": "ipython3",
   "version": "3.11.7"
  }
 },
 "nbformat": 4,
 "nbformat_minor": 5
}
