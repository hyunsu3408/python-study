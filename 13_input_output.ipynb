{
 "cells": [
  {
   "cell_type": "markdown",
   "id": "d963b4ec",
   "metadata": {},
   "source": [
    "# 표준 입.출력"
   ]
  },
  {
   "cell_type": "code",
   "execution_count": null,
   "id": "331c6bbb",
   "metadata": {},
   "outputs": [
    {
     "name": "stdout",
     "output_type": "stream",
     "text": [
      "Python,Java,JavaScript\n",
      "Python\n",
      "Java\n",
      "Python\tJava\n",
      "PythonJava?"
     ]
    }
   ],
   "source": [
    "print(\"Python\", \"Java\",\"JavaScript\", sep = ',')\n",
    "print(\"Python\", \"Java\", sep = '\\n')\n",
    "print(\"Python\", \"Java\", sep = '\\t')"
   ]
  },
  {
   "cell_type": "code",
   "execution_count": null,
   "id": "f0c23206",
   "metadata": {},
   "outputs": [
    {
     "name": "stdout",
     "output_type": "stream",
     "text": [
      "PythonJava무엇이 더 재미있을까요?\n",
      "무엇이 더 재미있을까요?\n"
     ]
    }
   ],
   "source": [
    "# end\n",
    "print(\"Python\", \"Java\", sep = '',end='?')\n",
    "print(\"무엇이 더 재미있을까요?\")"
   ]
  },
  {
   "cell_type": "code",
   "execution_count": null,
   "id": "33172e8a",
   "metadata": {},
   "outputs": [
    {
     "name": "stdout",
     "output_type": "stream",
     "text": [
      "Python Java\n"
     ]
    },
    {
     "name": "stderr",
     "output_type": "stream",
     "text": [
      "Python Java\n"
     ]
    }
   ],
   "source": [
    "import sys\n",
    "\n",
    "# stdout 표준 출력으로 출력\n",
    "# stderr 표준 에러로 출력\n",
    "print(\"Python\", \"Java\", file=sys.stdout)\n",
    "print(\"Python\", \"Java\", file=sys.stderr)"
   ]
  },
  {
   "cell_type": "code",
   "execution_count": 25,
   "id": "7064b4f1",
   "metadata": {},
   "outputs": [
    {
     "name": "stdout",
     "output_type": "stream",
     "text": [
      "수학      :   0\n",
      "영어      :  50\n",
      "코딩      : 100\n"
     ]
    }
   ],
   "source": [
    "scores = {\"수학\":0,\"영어\":50,\"코딩\":100}\n",
    "\n",
    "for subject,score in scores.items():\n",
    "    print(subject.ljust(8),str(score).rjust(4),sep=\":\")\n",
    "    \n",
    "# .ljust(숫자) -> 숫자만큼 공간을 확보후 왼쪽 정렬\n",
    "# .rjust(숫자) -> 숫자만큼 공간을 확보후 오른쪽 정렬\n"
   ]
  },
  {
   "cell_type": "code",
   "execution_count": 30,
   "id": "045d0d41",
   "metadata": {},
   "outputs": [
    {
     "name": "stdout",
     "output_type": "stream",
     "text": [
      "대기번호 : 001\n",
      "대기번호 : 002\n",
      "대기번호 : 003\n",
      "대기번호 : 004\n",
      "대기번호 : 005\n",
      "대기번호 : 006\n",
      "대기번호 : 007\n",
      "대기번호 : 008\n",
      "대기번호 : 009\n",
      "대기번호 : 010\n",
      "대기번호 : 011\n",
      "대기번호 : 012\n",
      "대기번호 : 013\n",
      "대기번호 : 014\n"
     ]
    }
   ],
   "source": [
    "# 은행 대기순번표\n",
    "# 001,002,003,...\n",
    "\n",
    "for num in range(1,15):\n",
    "    print(\"대기번호 : \"+str(num).zfill(3))\n",
    "    \n",
    "# .zfill(숫자) -> 3크기만큼의 0을 채우기 있으면 안채움\n"
   ]
  },
  {
   "cell_type": "code",
   "execution_count": null,
   "id": "4d09cae3",
   "metadata": {},
   "outputs": [
    {
     "name": "stdout",
     "output_type": "stream",
     "text": [
      "입력하신 값은 코딩입니다.\n",
      "<class 'str'>\n"
     ]
    }
   ],
   "source": [
    "answer = input(\"아무 값이나 입력하세요:\")\n",
    "print(\"입력하신 값은 \"+ answer +\"입니다.\")\n",
    "print(type(answer))\n",
    "# input 으로 사용자 입력으로 받으면 str type이다.\n"
   ]
  },
  {
   "cell_type": "markdown",
   "id": "14a8703d",
   "metadata": {},
   "source": [
    "# 다양한 출력 포맷"
   ]
  },
  {
   "cell_type": "code",
   "execution_count": null,
   "id": "37bad0dc",
   "metadata": {},
   "outputs": [
    {
     "name": "stdout",
     "output_type": "stream",
     "text": [
      "  500\n",
      "      +500\n",
      "      -500\n",
      "+500______\n",
      "100,000,000,000\n",
      "+100,000,000,000\n",
      "-100,000,000,000\n",
      "+100,000,000,000^^^^^^^^^^^^^^\n",
      "1.666667\n",
      "1.67\n"
     ]
    }
   ],
   "source": [
    "# 빈 자리는 빈공간으로 두고, 오른쪽 정렬을 하되, 총 10자리 공간을 확보\n",
    "print(\"{0: >10}\".format(500))\n",
    "\n",
    "# 양수일 땐 +로 표시, 음수 일땐 -로 표시\n",
    "print(\"{0: >+10}\".format(500))\n",
    "print(\"{0: >+10}\".format(-500))\n",
    "\n",
    "# 왼쪽 정렬을 하고, 빈칸으로 _로 채움\n",
    "print(\"{0:_<+10}\".format(500))\n",
    "\n",
    "# 3자리 마다 콤마를 찍어주기\n",
    "print(\"{0:,}\".format(100000000000))\n",
    "print(\"{0:,}\".format(100000000000))\n",
    "\n",
    "# 3자리 마다 콤마를 찍어주기, +,- 부호 붙이기\n",
    "print(\"{0:+,}\".format(100000000000))\n",
    "print(\"{0:-,}\".format(-100000000000))\n",
    "\n",
    "# 3자리 마다 콤마를 찍어주기,부호 붙이고, 자리수 확보\n",
    "# 빈자리는 ^로 채워주기\n",
    "print(\"{0:^<+30,}\".format(100000000000))\n",
    "\n",
    "# 소수점 출력\n",
    "print(\"{0:f}\".format(5/3))\n",
    "\n",
    "# 소수점 특정 자리수 까지 표시 (소수점 3째자리에서 반올림)\n",
    "print(\"{0:.2f}\".format(5/3))"
   ]
  },
  {
   "cell_type": "markdown",
   "id": "14d6f7bc",
   "metadata": {},
   "source": [
    "# 파일 입출력"
   ]
  },
  {
   "cell_type": "code",
   "execution_count": null,
   "id": "47c8f05b",
   "metadata": {},
   "outputs": [],
   "source": [
    "# \"w\" 쓰기, 파일이 없으면 생성\n",
    "score_file = open(\"score.txt\",\"w\",encoding=\"utf8\")\n",
    "print(\"수학 점수 : 0\",file = score_file)\n",
    "print(\"영어 점수 : 50\",file = score_file)\n",
    "score_file.close()"
   ]
  },
  {
   "cell_type": "code",
   "execution_count": null,
   "id": "b050f424",
   "metadata": {},
   "outputs": [],
   "source": [
    "# \"a\" -> 덮어쓰기(추가)\n",
    "score_file = open(\"score.txt\",\"a\",encoding=\"utf8\")\n",
    "# .write()는 줄 바꿈이 안된다.\n",
    "score_file.write(\"과학 : 80\")\n",
    "score_file.write(\"\\n코딩 : 100\")\n",
    "score_file.close()"
   ]
  },
  {
   "cell_type": "code",
   "execution_count": null,
   "id": "05329f47",
   "metadata": {},
   "outputs": [
    {
     "name": "stdout",
     "output_type": "stream",
     "text": [
      "수학 점수 : 0\n",
      "영어 점수 : 50\n",
      "과학 : 80\n",
      "코딩 : 100\n"
     ]
    }
   ],
   "source": [
    "# \"r\"로 읽음\n",
    "score_file = open(\"score.txt\",\"r\",encoding=\"utf8\")\n",
    "# .read() 파일의 모든 내용을 읽어드림\n",
    "print(score_file.read())\n",
    "score_file.close()"
   ]
  },
  {
   "cell_type": "code",
   "execution_count": null,
   "id": "c2a8c803",
   "metadata": {},
   "outputs": [
    {
     "name": "stdout",
     "output_type": "stream",
     "text": [
      "수학 점수 : 0\n",
      "\n",
      "영어 점수 : 50\n",
      "\n",
      "과학 : 80\n",
      "\n",
      "코딩 : 100\n"
     ]
    }
   ],
   "source": [
    "score_file = open(\"score.txt\",\"r\",encoding=\"utf8\")\n",
    "# 줄별로 읽기, 한줄 읽고 커서는 다음 줄로 이동\n",
    "# .readline()\n",
    "print(score_file.readline())\n",
    "print(score_file.readline())\n",
    "print(score_file.readline())\n",
    "print(score_file.readline())\n",
    "score_file.close()"
   ]
  },
  {
   "cell_type": "code",
   "execution_count": null,
   "id": "ea3116fa",
   "metadata": {},
   "outputs": [
    {
     "name": "stdout",
     "output_type": "stream",
     "text": [
      "수학 점수 : 0\n",
      "영어 점수 : 50\n",
      "과학 : 80\n",
      "코딩 : 100"
     ]
    }
   ],
   "source": [
    "# 파일의 내용이 몇 줄일지 모를 때\n",
    "# 방법 1\n",
    "score_file = open(\"score.txt\",\"r\",encoding=\"utf8\")\n",
    "while True :\n",
    "    line = score_file.readline()\n",
    "    if not line:\n",
    "        break\n",
    "    print(line,end=\"\")\n",
    "score_file.close()"
   ]
  },
  {
   "cell_type": "code",
   "execution_count": 74,
   "id": "b583d26e",
   "metadata": {},
   "outputs": [
    {
     "name": "stdout",
     "output_type": "stream",
     "text": [
      "수학 점수 : 0\n",
      "영어 점수 : 50\n",
      "과학 : 80\n",
      "코딩 : 100"
     ]
    }
   ],
   "source": [
    "# 파일의 내용이 몇 줄일지 모를 때\n",
    "# 방법 2\n",
    "score_file = open(\"score.txt\",\"r\",encoding=\"utf8\")\n",
    "lines = score_file.readlines() # list 형태로 저장\n",
    "for line in lines:\n",
    "    print(line,end=\"\")\n",
    "score_file.close()"
   ]
  },
  {
   "cell_type": "markdown",
   "id": "479b6a81",
   "metadata": {},
   "source": [
    "### pickle (데이터를 파일 형태로 저장)"
   ]
  },
  {
   "cell_type": "code",
   "execution_count": 77,
   "id": "8b85dae5",
   "metadata": {},
   "outputs": [
    {
     "name": "stdout",
     "output_type": "stream",
     "text": [
      "{'이름': '박명수', '나이': 30, '취미': ['축구', '골프', '코딩']}\n"
     ]
    }
   ],
   "source": [
    "import pickle\n",
    "# wb -> 쓸때 바이너리 타입으로 정의해야 함.\n",
    "profile_file = open(\"profile.pickle\",'wb')\n",
    "profile = {\"이름\":\"박명수\",\"나이\":30,\"취미\":[\"축구\",\"골프\",\"코딩\"]}\n",
    "print(profile)\n",
    "pickle.dump(profile,profile_file) # profile에 있는 정보를 file에 저장\n",
    "profile_file.close()"
   ]
  },
  {
   "cell_type": "code",
   "execution_count": 79,
   "id": "d447cfa4",
   "metadata": {},
   "outputs": [
    {
     "name": "stdout",
     "output_type": "stream",
     "text": [
      "{'이름': '박명수', '나이': 30, '취미': ['축구', '골프', '코딩']}\n"
     ]
    }
   ],
   "source": [
    "# 읽기\n",
    "profile_file = open(\"profile.pickle\",'rb')\n",
    "profile = pickle.load(profile_file)\n",
    "print(profile)\n",
    "profile_file.close()"
   ]
  },
  {
   "cell_type": "markdown",
   "id": "b938486b",
   "metadata": {},
   "source": [
    "# with"
   ]
  },
  {
   "cell_type": "code",
   "execution_count": null,
   "id": "5dff921b",
   "metadata": {},
   "outputs": [
    {
     "name": "stdout",
     "output_type": "stream",
     "text": [
      "{'이름': '박명수', '나이': 30, '취미': ['축구', '골프', '코딩']}\n"
     ]
    }
   ],
   "source": [
    "import pickle\n",
    "\n",
    "# with을 사용하면 .close() 안해도 자동으로 닫음\n",
    "with open(\"profile.pickle\",\"rb\") as profile_file:\n",
    "    print(pickle.load(profile_file))"
   ]
  },
  {
   "cell_type": "code",
   "execution_count": null,
   "id": "96a6d573",
   "metadata": {},
   "outputs": [],
   "source": [
    "# 쓰기\n",
    "# as 라는 변수에 저장\n",
    "with open(\"study.txt\",'w',encoding=\"utf8\") as study_file:\n",
    "    st udy_file.write(\"파이썬을 공부합니다.\")"
   ]
  },
  {
   "cell_type": "code",
   "execution_count": null,
   "id": "e50855d5",
   "metadata": {},
   "outputs": [
    {
     "name": "stdout",
     "output_type": "stream",
     "text": [
      "파이썬을 공부합니다.\n"
     ]
    }
   ],
   "source": [
    "# 읽기\n",
    "with open(\"study.txt\",'r',encoding=\"utf8\") as study_file:\n",
    "    print(study_file.read())"
   ]
  },
  {
   "cell_type": "code",
   "execution_count": null,
   "id": "93eb4539",
   "metadata": {},
   "outputs": [
    {
     "name": "stdout",
     "output_type": "stream",
     "text": [
      "존재합니다\n"
     ]
    }
   ],
   "source": [
    "# 파일이 있는지 확인하는 법\n",
    "# os.path.isfile(경로) -> 파일 확인\n",
    "# os.path.isdir(경로) -> 디렉토리 존재 확인\n",
    "# os.path.exists(경로) -> 경로 존재 확인\n",
    "# os.makedirs() -> 디렉토리를 확인하고 없으면 만들기\n",
    "\n",
    "import os\n",
    "\n",
    "if os.path.isfile(\"score.txt\"):\n",
    "    print(\"존재합니다\")\n",
    "else:\n",
    "    print(\"존재합니다\")"
   ]
  },
  {
   "cell_type": "code",
   "execution_count": 84,
   "id": "65ecf3f1",
   "metadata": {},
   "outputs": [],
   "source": [
    "# 파일 삭제\n",
    "\n",
    "# os.remove(파일이름) -> 파일이 존재하면 삭제,없으면 에러\n"
   ]
  },
  {
   "cell_type": "code",
   "execution_count": 91,
   "id": "a8aa4ca4",
   "metadata": {},
   "outputs": [
    {
     "name": "stdout",
     "output_type": "stream",
     "text": [
      "['1주차 주간 보고서.txt', '2주차 주간 보고서.txt', '3주차 주간 보고서.txt', '4주차 주간 보고서.txt', '5주차 주간 보고서.txt']\n"
     ]
    }
   ],
   "source": [
    "# 폴더 안의 파일 목록 읽기\n",
    "\n",
    "import os\n",
    "\n",
    "files = os.listdir(\"practice/quiz7\")\n",
    "print(files)"
   ]
  },
  {
   "cell_type": "code",
   "execution_count": 94,
   "id": "32125c4c",
   "metadata": {},
   "outputs": [
    {
     "name": "stdout",
     "output_type": "stream",
     "text": [
      "-> 1주차 주간 보고서.txt\n",
      "-> 2주차 주간 보고서.txt\n",
      "-> 3주차 주간 보고서.txt\n",
      "-> 4주차 주간 보고서.txt\n",
      "-> 5주차 주간 보고서.txt\n"
     ]
    }
   ],
   "source": [
    "# 특정 패턴의 파일만 출력하기\n",
    "for filename in os.listdir(\"practice/quiz7\"):\n",
    "    if filename.endswith(\"주간 보고서.txt\"):\n",
    "        print(\"->\",filename)"
   ]
  },
  {
   "cell_type": "code",
   "execution_count": null,
   "id": "436852a5",
   "metadata": {},
   "outputs": [],
   "source": []
  }
 ],
 "metadata": {
  "kernelspec": {
   "display_name": "Python 3",
   "language": "python",
   "name": "python3"
  },
  "language_info": {
   "codemirror_mode": {
    "name": "ipython",
    "version": 3
   },
   "file_extension": ".py",
   "mimetype": "text/x-python",
   "name": "python",
   "nbconvert_exporter": "python",
   "pygments_lexer": "ipython3",
   "version": "3.11.7"
  }
 },
 "nbformat": 4,
 "nbformat_minor": 5
}
