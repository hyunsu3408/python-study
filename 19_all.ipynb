{
 "cells": [
  {
   "cell_type": "markdown",
   "id": "0fd5979c",
   "metadata": {},
   "source": [
    "# __ all__ 사용"
   ]
  },
  {
   "cell_type": "code",
   "execution_count": 11,
   "id": "f1817c24",
   "metadata": {},
   "outputs": [
    {
     "ename": "NameError",
     "evalue": "name 'thailand' is not defined",
     "output_type": "error",
     "traceback": [
      "\u001b[1;31m---------------------------------------------------------------------------\u001b[0m",
      "\u001b[1;31mNameError\u001b[0m                                 Traceback (most recent call last)",
      "Cell \u001b[1;32mIn[11], line 3\u001b[0m\n\u001b[0;32m      1\u001b[0m \u001b[38;5;28;01mfrom\u001b[39;00m \u001b[38;5;21;01mtravel\u001b[39;00m \u001b[38;5;28;01mimport\u001b[39;00m \u001b[38;5;241m*\u001b[39m\n\u001b[1;32m----> 3\u001b[0m trip \u001b[38;5;241m=\u001b[39m thailand\u001b[38;5;241m.\u001b[39mThailandPackage()\n\u001b[0;32m      4\u001b[0m trip \u001b[38;5;241m=\u001b[39m vietnam\u001b[38;5;241m.\u001b[39mVietnamPackage()\n\u001b[0;32m      5\u001b[0m trip\u001b[38;5;241m.\u001b[39mdetail()\n",
      "\u001b[1;31mNameError\u001b[0m: name 'thailand' is not defined"
     ]
    }
   ],
   "source": [
    "from travel import *\n",
    "\n",
    "trip = thailand.ThailandPackage()\n",
    "trip = vietnam.VietnamPackage()\n",
    "trip.detail()"
   ]
  },
  {
   "cell_type": "code",
   "execution_count": null,
   "id": "04bff875",
   "metadata": {},
   "outputs": [],
   "source": [
    "# __all__은 import * 할 때만 적용됨\n",
    "# 외부에 공개할 함수/클래스/모듈만 노출하기 위해 사용\n",
    "# 특히 패키지를 만들거나 라이브러리를 배포할때 자주 사용"
   ]
  },
  {
   "cell_type": "markdown",
   "id": "348f3774",
   "metadata": {},
   "source": [
    "모듈 직접 실행 및 외부 실행"
   ]
  },
  {
   "cell_type": "code",
   "execution_count": 16,
   "id": "51856bdd",
   "metadata": {},
   "outputs": [
    {
     "name": "stdout",
     "output_type": "stream",
     "text": [
      "[태국 패키지 3박 5일]방콕, 파타야 여행 50만원\n"
     ]
    }
   ],
   "source": [
    "from travel.thailand import ThailandPackage\n",
    "\n",
    "trip = ThailandPackage()\n",
    "trip.detail()"
   ]
  },
  {
   "cell_type": "markdown",
   "id": "10212e7b",
   "metadata": {},
   "source": [
    "# 위치 찾기"
   ]
  },
  {
   "cell_type": "code",
   "execution_count": 18,
   "id": "6a119280",
   "metadata": {},
   "outputs": [
    {
     "name": "stdout",
     "output_type": "stream",
     "text": [
      "c:\\Users\\hyunsu\\anaconda3\\Lib\\random.py\n",
      "c:\\Users\\hyunsu\\study\\python\\travel\\thailand.py\n"
     ]
    }
   ],
   "source": [
    "import inspect\n",
    "import random\n",
    "\n",
    "print(inspect.getfile(random))\n",
    "print(inspect.getfile(thailand))"
   ]
  },
  {
   "cell_type": "code",
   "execution_count": null,
   "id": "64c777cd",
   "metadata": {},
   "outputs": [],
   "source": []
  }
 ],
 "metadata": {
  "kernelspec": {
   "display_name": "base",
   "language": "python",
   "name": "python3"
  },
  "language_info": {
   "codemirror_mode": {
    "name": "ipython",
    "version": 3
   },
   "file_extension": ".py",
   "mimetype": "text/x-python",
   "name": "python",
   "nbconvert_exporter": "python",
   "pygments_lexer": "ipython3",
   "version": "3.11.7"
  }
 },
 "nbformat": 4,
 "nbformat_minor": 5
}
