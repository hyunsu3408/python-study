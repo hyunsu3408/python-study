{
 "cells": [
  {
   "cell_type": "markdown",
   "id": "db96d786",
   "metadata": {},
   "source": [
    "# 예외처리"
   ]
  },
  {
   "cell_type": "code",
   "execution_count": 19,
   "id": "2f1cd2a2",
   "metadata": {},
   "outputs": [
    {
     "name": "stdout",
     "output_type": "stream",
     "text": [
      "나누기 전용 계산기\n",
      "에러! 잘못된 값을 입력\n"
     ]
    }
   ],
   "source": [
    "try:\n",
    "    print(\"나누기 전용 계산기\")\n",
    "    nums = []\n",
    "    nums.append(int(input(\"첫번째 숫자 입력하세요 : \")))\n",
    "    nums.append(int(input(\"두번째 숫자 입력하세요 : \")))\n",
    "    nums.append(int(nums[0]/nums[1]))\n",
    "    print(\" {0} / {1} = {2}\".format(nums[0],nums[1],nums[2]))\n",
    "except ValueError :\n",
    "    print(\"에러! 잘못된 값을 입력\")\n",
    "except ZeroDivisionError as arr:\n",
    "    print(arr)\n",
    "except Exception as err:\n",
    "    print(\"알 수 없는에러 발생\")\n",
    "    print(err)"
   ]
  },
  {
   "cell_type": "code",
   "execution_count": null,
   "id": "b442fe6a",
   "metadata": {},
   "outputs": [],
   "source": [
    "# ValueError : 값 자체는 존재하지만 그 값이 함수나\n",
    "# 연산에 적절하지 않을 때 발생하는 에러\n",
    "# 예) int(\"hello\")\n",
    "\n",
    "# ZeroDivisionError : 숫자를 0으로 나누려할 때 발생하는 에러\n",
    "# 예) 10 / 0 -> 에러\n",
    "# 하지만 0 / 10 -> 에러가 아님(정상)\n",
    "\n",
    "# Exception : 프로그램 실행 도중 발생할 수 있는 오류를 객체로 표현한 것\n",
    "# - 모든 예외의 부모 클래스이다."
   ]
  }
 ],
 "metadata": {
  "kernelspec": {
   "display_name": "base",
   "language": "python",
   "name": "python3"
  },
  "language_info": {
   "codemirror_mode": {
    "name": "ipython",
    "version": 3
   },
   "file_extension": ".py",
   "mimetype": "text/x-python",
   "name": "python",
   "nbconvert_exporter": "python",
   "pygments_lexer": "ipython3",
   "version": "3.11.7"
  }
 },
 "nbformat": 4,
 "nbformat_minor": 5
}
