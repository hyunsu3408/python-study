{
 "cells": [
  {
   "cell_type": "markdown",
   "id": "db96d786",
   "metadata": {},
   "source": [
    "# 예외처리"
   ]
  },
  {
   "cell_type": "code",
   "execution_count": 19,
   "id": "2f1cd2a2",
   "metadata": {},
   "outputs": [
    {
     "name": "stdout",
     "output_type": "stream",
     "text": [
      "나누기 전용 계산기\n",
      "에러! 잘못된 값을 입력\n"
     ]
    }
   ],
   "source": [
    "try:\n",
    "    print(\"나누기 전용 계산기\")\n",
    "    nums = []\n",
    "    nums.append(int(input(\"첫번째 숫자 입력하세요 : \")))\n",
    "    nums.append(int(input(\"두번째 숫자 입력하세요 : \")))\n",
    "    nums.append(int(nums[0]/nums[1]))\n",
    "    print(\" {0} / {1} = {2}\".format(nums[0],nums[1],nums[2]))\n",
    "except ValueError :\n",
    "    print(\"에러! 잘못된 값을 입력\")\n",
    "except ZeroDivisionError as arr:\n",
    "    print(arr)\n",
    "except Exception as err:\n",
    "    print(\"알 수 없는에러 발생\")\n",
    "    print(err)"
   ]
  },
  {
   "cell_type": "code",
   "execution_count": null,
   "id": "b442fe6a",
   "metadata": {},
   "outputs": [],
   "source": [
    "# ValueError : 값 자체는 존재하지만 그 값이 함수나\n",
    "# 연산에 적절하지 않을 때 발생하는 에러\n",
    "# 예) int(\"hello\")\n",
    "\n",
    "# ZeroDivisionError : 숫자를 0으로 나누려할 때 발생하는 에러\n",
    "# 예) 10 / 0 -> 에러\n",
    "# 하지만 0 / 10 -> 에러가 아님(정상)\n",
    "\n",
    "# Exception : 프로그램 실행 도중 발생할 수 있는 오류를 객체로 표현한 것\n",
    "# - 모든 예외의 부모 클래스이다."
   ]
  },
  {
   "cell_type": "markdown",
   "id": "70648cfd",
   "metadata": {},
   "source": [
    "# 의도적 에러 발생시키기"
   ]
  },
  {
   "cell_type": "code",
   "execution_count": null,
   "id": "ceed956a",
   "metadata": {},
   "outputs": [
    {
     "name": "stdout",
     "output_type": "stream",
     "text": [
      "한 자리 숫자 나누기 전용 계산기\n",
      "1 / 2 = 0\n"
     ]
    }
   ],
   "source": [
    "try:\n",
    "    print(\"한 자리 숫자 나누기 전용 계산기\")\n",
    "    num1 = int(input(\"첫번째 숫자를 입력하세요:\"))\n",
    "    num2 = int(input(\"두번째 숫자를 입력하세요:\"))\n",
    "    if num1 >= 10 or num2 >= 10:\n",
    "        raise ValueError\n",
    "    print(\"{0} / {1} = {2}\".format(num1,num2,int(num1/num2)))\n",
    "except:\n",
    "    print(\"잘못된 값을 입력하였습니다.\")\n",
    "    \n",
    "# raise : 직접 예외를 발생시키는 명령어"
   ]
  },
  {
   "cell_type": "markdown",
   "id": "1bb6fd72",
   "metadata": {},
   "source": [
    "# 사용자 정의 예외처리"
   ]
  },
  {
   "cell_type": "code",
   "execution_count": null,
   "id": "a427ab67",
   "metadata": {},
   "outputs": [
    {
     "name": "stdout",
     "output_type": "stream",
     "text": [
      "한 자리 숫자 나누기 전용 계산기\n",
      "0으로 나누지 마십시오\n",
      "계산기를 이용해주셔서 감사합니다\n"
     ]
    }
   ],
   "source": [
    "class BignumberError(Exception):\n",
    "    def __init__(self,msg):\n",
    "        self.msg = msg\n",
    "    \n",
    "    def __str__(self):\n",
    "        return self.msg\n",
    "\n",
    "try:\n",
    "    print(\"한 자리 숫자 나누기 전용 계산기\")\n",
    "    num1 = int(input(\"첫번째 숫자를 입력하세요:\"))\n",
    "    num2 = int(input(\"두번째 숫자를 입력하세요:\"))\n",
    "    if num1 >= 10 or num2 >= 10:\n",
    "        raise BignumberError(\"입력값:{0},{1}\".format(num1,num2))\n",
    "    print(\"{0} / {1} = {2}\".format(num1,num2,int(num1/num2)))\n",
    "except ValueError:\n",
    "    print(\"잘못된 값을 입력하였습니다.\")\n",
    "except ZeroDivisionError:\n",
    "    print(\"0으로 나누지 마십시오\")    \n",
    "except BignumberError as err:\n",
    "    print(\"에러가 발생하였습니다. 한자리 숫자만 입력하세요\")\n",
    "    print(err)\n",
    "finally:\n",
    "    print(\"계산기를 이용해주셔서 감사합니다\")\n",
    "    \n",
    "# __str__: print(객체), str(객체), f\"문자열{객체}\"일 때 자동적으로 호출\n",
    "# __repr__ : __str__과 비슷하지만 목적이 다름. 디버깅/로그/인터프리터용( repr() )\n",
    "# finally : 에러가 발생하든 안하든, 무조건 마지막에 실행되는 블록"
   ]
  }
 ],
 "metadata": {
  "kernelspec": {
   "display_name": "base",
   "language": "python",
   "name": "python3"
  },
  "language_info": {
   "codemirror_mode": {
    "name": "ipython",
    "version": 3
   },
   "file_extension": ".py",
   "mimetype": "text/x-python",
   "name": "python",
   "nbconvert_exporter": "python",
   "pygments_lexer": "ipython3",
   "version": "3.11.7"
  }
 },
 "nbformat": 4,
 "nbformat_minor": 5
}
