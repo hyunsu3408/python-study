{
 "cells": [
  {
   "cell_type": "code",
   "execution_count": null,
   "id": "6bed6571",
   "metadata": {},
   "outputs": [],
   "source": [
    "# Quiz6) 표준 체중을 구하는 프로그램을 작성하시오\n",
    "\n",
    "# * 표준 체중 : 각 개인의 키에 적당한 체중\n",
    "# (성별에 따른 공식)\n",
    "# 남자 : 키 x 키 x 22\n",
    "# 여자 : 키 x 키 x 21\n",
    "\n",
    "# 조건 1: 표준 체중은 별도의 함수 내에서 계산\n",
    "#         * 함수명 : std_weight\n",
    "#         * 전달값 : 키(height),성별(gender)\n",
    "# 조건 2: 표준 체중은 소수점 둘째 자리까지 표시\n"
   ]
  },
  {
   "cell_type": "code",
   "execution_count": null,
   "id": "5677a278",
   "metadata": {},
   "outputs": [
    {
     "name": "stdout",
     "output_type": "stream",
     "text": [
      "키 175의 남자의 표준 체중은 67.38kg입니다.\n"
     ]
    }
   ],
   "source": [
    "def std_weight(height,gender): # 키와 성별 입력\n",
    "    if gender == \"남자\":\n",
    "        return height * height * 22\n",
    "        \n",
    "    else:\n",
    "        return height * height * 21\n",
    "\n",
    "height = 175 # cm 단위\n",
    "gender = \"남자\"\n",
    "# 소숫점 둘째 자리까지 표시\n",
    "weight = round(std_weight(height/100, gender),2)\n",
    "print(\"키 {0}의 {1}의 표준 체중은 {2}kg입니다.\".format(height,gender,weight))"
   ]
  },
  {
   "cell_type": "code",
   "execution_count": null,
   "id": "d4953981",
   "metadata": {},
   "outputs": [],
   "source": []
  }
 ],
 "metadata": {
  "kernelspec": {
   "display_name": "Python 3",
   "language": "python",
   "name": "python3"
  },
  "language_info": {
   "codemirror_mode": {
    "name": "ipython",
    "version": 3
   },
   "file_extension": ".py",
   "mimetype": "text/x-python",
   "name": "python",
   "nbconvert_exporter": "python",
   "pygments_lexer": "ipython3",
   "version": "3.11.7"
  }
 },
 "nbformat": 4,
 "nbformat_minor": 5
}
