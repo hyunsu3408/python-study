{
 "cells": [
  {
   "cell_type": "code",
   "execution_count": 2,
   "id": "97e98dd6",
   "metadata": {},
   "outputs": [],
   "source": [
    "# Quiz)당신의 학교에서는 파이썬 코딩 대회를 주최합니다.\n",
    "# 참석률을 높이기 위해 댓글 이벤트를 진행하기로 하였습니다\n",
    "# 댓글 작성자들 중에 추첨을 통해 1명은 치킨, 3명은 커피 쿠폰을 받습니다\n",
    "# 추첨 프로그램을 작성하시오\n",
    "\n",
    "# 조건 1 : 편의상 댓글은 20명이 작성하였고 아이디는 1~20이라고 가정\n",
    "# 조건 2 : 댓글 내용과 상관 없이 무작위로 추첨하되 중복 불가\n",
    "# 조건 3 : random 모듈의 shuffle과 sample을 활용\n",
    "\n",
    "# (출력 예제)\n",
    "# --당첨자 발표--\n",
    "# 치킨 당첨자 : 1\n",
    "# 커피 당첨자 : [2,3,4]\n",
    "# --축하합니다--\n",
    "\n",
    "# (활용 예제)\n",
    "# from random import *\n",
    "# lst = [1,2,3,4,5]\n",
    "# print(lst)\n",
    "# shuffle(lst)\n",
    "# print(lst)\n",
    "# print(sample(lst,1))"
   ]
  },
  {
   "cell_type": "code",
   "execution_count": 35,
   "id": "561d8c74",
   "metadata": {},
   "outputs": [
    {
     "name": "stdout",
     "output_type": "stream",
     "text": [
      "--당첨자 발표--\n",
      "치킨 당첨자 : 3\n",
      "커피 당첨자 : [0, 1, 2]\n",
      "--축하 합니다--\n"
     ]
    }
   ],
   "source": [
    "from random import *\n",
    "\n",
    "# 조건 1\n",
    "id=list(range(1,21)) # 1~20 까지 생성\n",
    "# id = range(1,21)\n",
    "# id = list(id)\n",
    "\n",
    "\n",
    "# 조건 2\n",
    "shuffle(id)\n",
    "\n",
    "chk = sample(id,1) #리스트 반환\n",
    "chk = chk[0]\n",
    "# chk = sampe(id,1)[0] 랑 동일\n",
    "\n",
    "# 중복 제거, 치킨 당첨자 제외\n",
    "id.remove(chk)\n",
    "\n",
    "# 조건 3\n",
    "coff = sample(id,3)\n",
    "\n",
    "print(\"--당첨자 발표--\")\n",
    "print(f\"치킨 당첨자 : {chk}\")\n",
    "print(f\"커피 당첨자 : {[0,1,2]}\".format(coff))\n",
    "print(\"--축하 합니다--\")\n",
    "\n"
   ]
  },
  {
   "cell_type": "code",
   "execution_count": null,
   "id": "9ebb7bfc",
   "metadata": {},
   "outputs": [],
   "source": []
  }
 ],
 "metadata": {
  "kernelspec": {
   "display_name": "Python 3",
   "language": "python",
   "name": "python3"
  },
  "language_info": {
   "codemirror_mode": {
    "name": "ipython",
    "version": 3
   },
   "file_extension": ".py",
   "mimetype": "text/x-python",
   "name": "python",
   "nbconvert_exporter": "python",
   "pygments_lexer": "ipython3",
   "version": "3.11.7"
  }
 },
 "nbformat": 4,
 "nbformat_minor": 5
}
