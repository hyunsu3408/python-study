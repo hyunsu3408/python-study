{
 "cells": [
  {
   "cell_type": "code",
   "execution_count": 1,
   "id": "f3622115",
   "metadata": {},
   "outputs": [],
   "source": [
    "# Quiz) 동네에 항상 대기 손님이 있는 맛있는 치킨집이 있습니다\n",
    "# 대기 손님의 치킨 요리 시간을 줄이고자 자동 주문 시스템을 제작하였습니다\n",
    "# 시스템 코드를 확인하고 적절한 예외처리 구문을 넣으시오\n",
    "\n",
    "# 조건1 : 1보다 작거나 숫자가 아닌 입력값이 들어올 때는 ValueError로 처리\n",
    "# 출력 메세지 : \"잘못된 값을 입력하였습니다\"\n",
    "\n",
    "# 조건2: 대기 손님이 주문할 수 있는 총 치킨량은 10마리로 한정\n",
    "# 치킨 소진시 사용자 정의 에러[SoldOutError]를 발생시키고 프로그램 종료\n",
    "# 출력 메세지: \"재고가 소진되어 더이상 주문을 받지 않습니다.\"\n",
    "\n"
   ]
  },
  {
   "cell_type": "code",
   "execution_count": null,
   "id": "fcd6871d",
   "metadata": {},
   "outputs": [
    {
     "name": "stdout",
     "output_type": "stream",
     "text": [
      "현재 남은 치킨 : 10 \n",
      "현재 대기 번호 1, 3마리 주문 완료하였습니다.\n",
      "현재 남은 치킨 : 7 \n",
      "잘못된 값을 입력되었습니다.\n",
      "현재 남은 치킨 : 7 \n",
      "재고가 부족합니다.\n",
      "현재 남은 치킨 : 7 \n",
      "현재 대기 번호 2, 7마리 주문 완료하였습니다.\n",
      "재고가 소진되어 더이상 주문을 받지 않습니다.\n"
     ]
    }
   ],
   "source": [
    "chicken = 10\n",
    "waiting = 1\n",
    "\n",
    "class SoldOutError(Exception):\n",
    "    def __init__(self,msg):\n",
    "        self.msg = msg\n",
    "        \n",
    "    def __str__(self):\n",
    "        return self.msg\n",
    "\n",
    "while (True):\n",
    "    try:\n",
    "        print (\"현재 남은 치킨 : {0} \".format(chicken))\n",
    "        order = int(input(\"치킨 몇마리 주문하시겠습니까? : \"))\n",
    "        if order > chicken:\n",
    "            print(\"재고가 부족합니다.\")\n",
    "        else:\n",
    "            print(\"현재 대기 번호 {0}, {1}마리 주문 완료하였습니다.\"\\\n",
    "                .format(waiting,order))\n",
    "            chicken -= order\n",
    "            waiting += 1\n",
    "            if chicken <= 0 :\n",
    "                raise SoldOutError(\"재고가 소진되어 더이상 주문을 받지 않습니다.\")\n",
    "    except ValueError:\n",
    "        print(\"잘못된 값을 입력되었습니다.\")\n",
    "    except SoldOutError as err:\n",
    "        print(err)\n",
    "        break\n",
    "\n",
    "\n"
   ]
  },
  {
   "cell_type": "code",
   "execution_count": null,
   "id": "1c689829",
   "metadata": {},
   "outputs": [
    {
     "name": "stdout",
     "output_type": "stream",
     "text": [
      "현재 남은 수량 : 10\n",
      "현재 대기번호 1, 주문수량 1\n",
      "현재 남은 수량 : 9\n",
      "현재 대기번호 2, 주문수량 1\n",
      "현재 남은 수량 : 8\n",
      "현재 대기번호 3, 주문수량 1\n",
      "현재 남은 수량 : 7\n",
      "현재 대기번호 4, 주문수량 2\n",
      "현재 남은 수량 : 5\n",
      "현재 대기번호 5, 주문수량 1\n",
      "현재 남은 수량 : 4\n",
      "현재 대기번호 6, 주문수량 2\n",
      "현재 남은 수량 : 2\n",
      "주문 수량이 재고를 넘어섰습니다.\n",
      "현재 남은 수량 : 2\n",
      "주문 수량이 재고를 넘어섰습니다.\n",
      "현재 남은 수량 : 2\n",
      "주문 수량이 재고를 넘어섰습니다.\n",
      "현재 남은 수량 : 2\n",
      "주문 수량이 재고를 넘어섰습니다.\n",
      "현재 남은 수량 : 2\n",
      "주문 수량이 재고를 넘어섰습니다.\n",
      "현재 남은 수량 : 2\n",
      "값을 제대로 입력하세요\n",
      "현재 남은 수량 : 2\n",
      "현재 대기번호 7, 주문수량 2\n",
      "재고가 모두 소진되었습니다.\n"
     ]
    }
   ],
   "source": [
    "CHIKEN_STOCK = 10\n",
    "waiting = 1\n",
    "chicken = CHIKEN_STOCK\n",
    "\n",
    "class SoldOutError(Exception):\n",
    "    def __init__(self,msg):\n",
    "        self.msg = msg\n",
    "        \n",
    "    def __str__(self):\n",
    "        return self.msg\n",
    "\n",
    "def process(order,waiting_num):\n",
    "    global chicken\n",
    "    if order > chicken or order == 0:\n",
    "        print(\"주문이 재고를 넘었거나 주문수량이 0입니다.\")\n",
    "        return waiting_num\n",
    "    print(\"현재 대기번호 {0}, 주문수량 {1}\".format(waiting_num,order))\n",
    "    chicken -= order\n",
    "    return waiting_num + 1\n",
    "\n",
    "while(True):\n",
    "    try:\n",
    "        if chicken <= 0:\n",
    "            raise SoldOutError(\"재고가 모두 소진되었습니다.\")\n",
    "        else:\n",
    "            print(f\"현재 남은 수량 : {chicken}\")\n",
    "            order = int(input(\"주문하실 수량을 입력하세요 : \"))\n",
    "            waiting = process(order,waiting)\n",
    "        \n",
    "    except ValueError:\n",
    "        print(\"값을 제대로 입력하세요\")\n",
    "    except SoldOutError as err:\n",
    "        print(err)\n",
    "        break\n"
   ]
  },
  {
   "cell_type": "code",
   "execution_count": null,
   "id": "39b7b2ee",
   "metadata": {},
   "outputs": [],
   "source": []
  }
 ],
 "metadata": {
  "kernelspec": {
   "display_name": "base",
   "language": "python",
   "name": "python3"
  },
  "language_info": {
   "codemirror_mode": {
    "name": "ipython",
    "version": 3
   },
   "file_extension": ".py",
   "mimetype": "text/x-python",
   "name": "python",
   "nbconvert_exporter": "python",
   "pygments_lexer": "ipython3",
   "version": "3.11.7"
  }
 },
 "nbformat": 4,
 "nbformat_minor": 5
}
