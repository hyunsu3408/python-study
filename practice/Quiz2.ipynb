{
 "cells": [
  {
   "cell_type": "code",
   "execution_count": 6,
   "id": "53fc70c2",
   "metadata": {},
   "outputs": [],
   "source": [
    "from math import *\n",
    "from random import *"
   ]
  },
  {
   "cell_type": "code",
   "execution_count": null,
   "id": "f363273b",
   "metadata": {},
   "outputs": [
    {
     "name": "stdout",
     "output_type": "stream",
     "text": [
      "오프라인 스터디 모임 날짜는 매월 7일 입니다.\n"
     ]
    }
   ],
   "source": [
    "# 최근에 스터디 모임을 새로 만들었습니다\n",
    "# 월 4회 스터디를 하는데 3번은 온라인이고 1번은 오프라인으로 하기로 하였습니다\n",
    "# 아래 조건에 맞는 오프라인 모임 날짜를 정해주는 프로그램을 만드세요\n",
    "\n",
    "# 조건1 : 랜덤으로 날짜를 뽑기\n",
    "# 조건2 : 월별 날짜는 다름을 감안하여 최소 일수인 28일 이내로 정함\n",
    "# 조건3 : 매월 1~3일은 스터디 준비를 해야함으로 제외함\n",
    "\n",
    "\n",
    "\n",
    "study_day = randint(4, 28)\n",
    "\n",
    "print(\"오프라인 스터디 모임 날짜는 매월 \"+ str(study_day)+\"일 입니다.\")\n"
   ]
  }
 ],
 "metadata": {
  "kernelspec": {
   "display_name": "Python 3",
   "language": "python",
   "name": "python3"
  },
  "language_info": {
   "codemirror_mode": {
    "name": "ipython",
    "version": 3
   },
   "file_extension": ".py",
   "mimetype": "text/x-python",
   "name": "python",
   "nbconvert_exporter": "python",
   "pygments_lexer": "ipython3",
   "version": "3.11.7"
  }
 },
 "nbformat": 4,
 "nbformat_minor": 5
}
