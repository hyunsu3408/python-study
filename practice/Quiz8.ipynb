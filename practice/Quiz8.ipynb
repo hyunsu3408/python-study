{
 "cells": [
  {
   "cell_type": "code",
   "execution_count": null,
   "id": "ae632ff1",
   "metadata": {},
   "outputs": [],
   "source": [
    "# Quiz8) 주어진 코드를 활용하여 부동산 프로그램 작성하시오\n",
    "\n",
    "#(출력 예제)\n",
    "# 총 3대의 매물이 있습니다.\n",
    "# 강남 아파트 매매 10억 2010년\n",
    "# 마포 오피스텔 전세 5억 2007년\n",
    "# 송파 빌라 월세 500/50 2000년\n",
    "\n",
    "# [코드]\n",
    "# class House:\n",
    "#     def __init__(self,location,house_type,deal_type,\\\n",
    "#         price,completion_year):\n",
    "#         pass\n",
    "            \n",
    "#     매물 정보 표시\n",
    "#     def show_detail(self):\n",
    "#         pass"
   ]
  },
  {
   "cell_type": "code",
   "execution_count": null,
   "id": "954f4d0e",
   "metadata": {},
   "outputs": [
    {
     "name": "stdout",
     "output_type": "stream",
     "text": [
      "총 3대의 매물이 있습니다.\n",
      "강남 아파트 매매 10억 2010년 매물이 있습니다.\n",
      "마포 오피스텔 전세 5억 2007년 매물이 있습니다.\n",
      "송남 빌라 월세 500/50 2000년 매물이 있습니다.\n"
     ]
    }
   ],
   "source": [
    "class House:\n",
    "    # 매물 초기화\n",
    "    def __init__(self,location,house_type,deal_type,\\\n",
    "        price,completion_year):\n",
    "        self.location = location\n",
    "        self.house_type = house_type\n",
    "        self.deal_type = deal_type\n",
    "        self.price = price\n",
    "        self.completion_year = completion_year\n",
    "    \n",
    "    # 매물 정보 표시\n",
    "    def show_detail(self):\n",
    "        print(\"{0} {1} {2} {3} {4} 매물이 있습니다.\".format(self.location,self.house_type,\\\n",
    "            self.deal_type,self.price,self.completion_year))\n",
    "\n",
    "# 실제 매물 표시\n",
    "\n",
    "house = []\n",
    "house1 = House(\"강남\",\"아파트\",\"매매\",\"10억\",\"2010년\")\n",
    "house2 = House(\"마포\",\"오피스텔\",\"전세\",\"5억\",\"2007년\")\n",
    "house3 = House(\"송남\",\"빌라\",\"월세\",\"500/50\",\"2000년\")\n",
    "\n",
    "# house.append(house1)\n",
    "# house.append(house2)\n",
    "# house.append(house3)\n",
    "house.extend([house1,house2,house3])\n",
    "\n",
    "print(\"총 {0}대의 매물이 있습니다.\".format(len(house)))\n",
    "for houses in house:\n",
    "    houses.show_detail()\n"
   ]
  },
  {
   "cell_type": "code",
   "execution_count": null,
   "id": "1030232c",
   "metadata": {},
   "outputs": [],
   "source": []
  }
 ],
 "metadata": {
  "kernelspec": {
   "display_name": "Python 3",
   "language": "python",
   "name": "python3"
  },
  "language_info": {
   "codemirror_mode": {
    "name": "ipython",
    "version": 3
   },
   "file_extension": ".py",
   "mimetype": "text/x-python",
   "name": "python",
   "nbconvert_exporter": "python",
   "pygments_lexer": "ipython3",
   "version": "3.11.7"
  }
 },
 "nbformat": 4,
 "nbformat_minor": 5
}
