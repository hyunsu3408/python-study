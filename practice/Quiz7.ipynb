{
 "cells": [
  {
   "cell_type": "code",
   "execution_count": 1,
   "id": "704317ed",
   "metadata": {},
   "outputs": [],
   "source": [
    "# Quiz7) 당신의 회사에서는 매주 1회 작성해야 하는 보고서가 있습니다.\n",
    "# 보고서는 항상 아래와 같은 형태로 출력되어야 합니다.\n",
    "\n",
    "# -x 주차 주간 보고-\n",
    "# 부서:\n",
    "# 이름:\n",
    "# 업무 요약:\n",
    "# 1주차 부터 50주차 까지의 보고서 파일을 만드는 프로그램을 작성하시오.\n",
    "\n",
    "# 조건1: 파일명은 '1주차.txt', '2주차.txt',...\n",
    "\n"
   ]
  },
  {
   "cell_type": "code",
   "execution_count": null,
   "id": "c0a23506",
   "metadata": {},
   "outputs": [],
   "source": [
    "# 방법 1\n",
    "count = 1\n",
    "\n",
    "while True:\n",
    "    \n",
    "    if count == 6:\n",
    "        break\n",
    "    \n",
    "    with open(\"quiz7/{0}주차 주간 보고.txt\".format(count),'w',encoding=\"utf8\") as file:\n",
    "        file.write('-{0}주차 주간보고-'.format(count))\n",
    "        file.write('부서: \\n')\n",
    "        file.write('이름: \\n')\n",
    "        file.write('업무 요약: \\n')\n",
    "    count += 1\n",
    "    "
   ]
  },
  {
   "cell_type": "code",
   "execution_count": 12,
   "id": "b69fbaa9",
   "metadata": {},
   "outputs": [
    {
     "name": "stdout",
     "output_type": "stream",
     "text": [
      "1주차 보고서가 삭제 완료 되었습니다.\n",
      "2주차 보고서가 삭제 완료 되었습니다.\n",
      "3주차 보고서가 삭제 완료 되었습니다.\n",
      "4주차 보고서가 삭제 완료 되었습니다.\n",
      "5주차 보고서가 삭제 완료 되었습니다.\n"
     ]
    }
   ],
   "source": [
    "# 방법 2\n",
    "import os\n",
    "\n",
    "# 파일이 존재하는지 확인후 삭제제\n",
    "for a in range(1,6):\n",
    "    if os.path.isfile(f\"quiz7/{a}주차 주간 보고서.txt\"):\n",
    "        os.remove(f\"quiz7/{a}주차 주간 보고서.txt\")\n",
    "        print(f\"{a}주차 보고서가 삭제 완료 되었습니다.\")\n",
    "\n",
    "# 파일 새로 생성\n",
    "for i in range(1,6):\n",
    "    with open(f\"quiz7/{i}주차 주간 보고서.txt\",'w',encoding=\"utf8\") as file:\n",
    "        file.write(f'-{i}주차 주간보고서-\\n')\n",
    "        file.write('부서: \\n')\n",
    "        file.write('이름: \\n')\n",
    "        file.write('업무 요약: \\n')  "
   ]
  }
 ],
 "metadata": {
  "kernelspec": {
   "display_name": "Python 3",
   "language": "python",
   "name": "python3"
  },
  "language_info": {
   "codemirror_mode": {
    "name": "ipython",
    "version": 3
   },
   "file_extension": ".py",
   "mimetype": "text/x-python",
   "name": "python",
   "nbconvert_exporter": "python",
   "pygments_lexer": "ipython3",
   "version": "3.11.7"
  }
 },
 "nbformat": 4,
 "nbformat_minor": 5
}
