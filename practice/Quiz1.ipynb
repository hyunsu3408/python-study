{
 "cells": [
  {
   "cell_type": "code",
   "execution_count": 1,
   "id": "660340ff",
   "metadata": {},
   "outputs": [
    {
     "name": "stdout",
     "output_type": "stream",
     "text": [
      "사당행 열차가 들어오고 있습니다.\n",
      "신도림행 열차가 들어오고 있습니다.\n",
      "인천공항행 열차가 들어오고 있습니다.\n"
     ]
    }
   ],
   "source": [
    "station = \"사당\"\n",
    "print(station+\"행 열차가 들어오고 있습니다.\")\n",
    "station = \"신도림\"\n",
    "print(station+\"행 열차가 들어오고 있습니다.\")\n",
    "station = \"인천공항\"\n",
    "print(station+\"행 열차가 들어오고 있습니다.\")"
   ]
  },
  {
   "cell_type": "code",
   "execution_count": null,
   "id": "a864f075",
   "metadata": {},
   "outputs": [
    {
     "name": "stdout",
     "output_type": "stream",
     "text": [
      "14\n",
      "20\n",
      "14\n",
      "16\n"
     ]
    }
   ],
   "source": [
    "print(2 + 3 * 4)\n",
    "print((2 + 3) * 4)\n",
    "number = 2+3*4\n",
    "print(number)\n",
    "number = number + 2 \n",
    "print(number)"
   ]
  }
 ],
 "metadata": {
  "kernelspec": {
   "display_name": "Python 3",
   "language": "python",
   "name": "python3"
  },
  "language_info": {
   "codemirror_mode": {
    "name": "ipython",
    "version": 3
   },
   "file_extension": ".py",
   "mimetype": "text/x-python",
   "name": "python",
   "nbconvert_exporter": "python",
   "pygments_lexer": "ipython3",
   "version": "3.11.7"
  }
 },
 "nbformat": 4,
 "nbformat_minor": 5
}
