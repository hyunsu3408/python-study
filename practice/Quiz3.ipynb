{
 "cells": [
  {
   "cell_type": "code",
   "execution_count": 24,
   "id": "f4e52cad",
   "metadata": {},
   "outputs": [
    {
     "name": "stdout",
     "output_type": "stream",
     "text": [
      "http://google.com의 비밀번호는 goo61!입니다\n"
     ]
    }
   ],
   "source": [
    "# Quiz) 사이즈 별로 비밀번호를 만들어 주는 프로그램 작성\n",
    "\n",
    "# 예) http://naver.com\n",
    "# 규칙 1 : http:// 부분은 제외 => naver.com\n",
    "# 규칙 2 : 처음 만나는 점(.) 이후 부분은 제외 => naver\n",
    "# 규칙 3 : 남은 글자 중 처음 세자리 + 글자 갯수 + 글자 내 'e' + \"!\"로 구성\n",
    "# 예 ) 생성된 비밀번호: nav51!\n",
    "\n",
    "url = \"http://google.com\"\n",
    "my_str = url.replace(\"http://\",\"\") # 규칙1\n",
    "my_str = my_str[:my_str.index(\".\")] # 규칙2 my_str[0:5] -> 0~5 직전까지\n",
    "my_password = my_str[:3]+str(len(my_str))+ str(my_str.count(\"e\")) + \"!\"\n",
    "\n",
    "print(\"{0}의 비밀번호는 {1}입니다\".format(url,my_password))\n"
   ]
  },
  {
   "cell_type": "code",
   "execution_count": null,
   "id": "8c6fa11b",
   "metadata": {},
   "outputs": [],
   "source": []
  }
 ],
 "metadata": {
  "kernelspec": {
   "display_name": "Python 3",
   "language": "python",
   "name": "python3"
  },
  "language_info": {
   "codemirror_mode": {
    "name": "ipython",
    "version": 3
   },
   "file_extension": ".py",
   "mimetype": "text/x-python",
   "name": "python",
   "nbconvert_exporter": "python",
   "pygments_lexer": "ipython3",
   "version": "3.11.7"
  }
 },
 "nbformat": 4,
 "nbformat_minor": 5
}
