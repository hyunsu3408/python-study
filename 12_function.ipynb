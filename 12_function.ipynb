{
 "cells": [
  {
   "cell_type": "markdown",
   "id": "f916d188",
   "metadata": {},
   "source": [
    "# 함수"
   ]
  },
  {
   "cell_type": "code",
   "execution_count": null,
   "id": "dfdb343a",
   "metadata": {},
   "outputs": [],
   "source": [
    "# def로 정의"
   ]
  },
  {
   "cell_type": "code",
   "execution_count": 6,
   "id": "3b15f170",
   "metadata": {},
   "outputs": [
    {
     "name": "stdout",
     "output_type": "stream",
     "text": [
      "새로운 계좌가 생성되었습니다.\n"
     ]
    }
   ],
   "source": [
    "def open_account():\n",
    "    print(\"새로운 계좌가 생성되었습니다.\")\\\n",
    "        \n",
    "open_account()"
   ]
  },
  {
   "cell_type": "code",
   "execution_count": null,
   "id": "4c324605",
   "metadata": {},
   "outputs": [
    {
     "name": "stdout",
     "output_type": "stream",
     "text": [
      "입금이 완료 되었습니다. 잔액은 1000원 입니다.\n",
      "1000\n",
      "입금이 완료 되었습니다. 잔액은 1000원 입니다.\n",
      "수수료는 100원이며, 잔액은 400원 입니다.\n"
     ]
    }
   ],
   "source": [
    "def deposit(balance,money): # 입금\n",
    "    print(\"입금이 완료 되었습니다. 잔액은 {0}원 입니다.\".format(balance + money))\n",
    "    return balance + money\n",
    "\n",
    "def withdraw(balance,money): # 출금\n",
    "    if balance >= money:\n",
    "        print(\"출금이 완료되었습니다. 잔액은 {0}원 입니다.\".format(balance-money))\n",
    "        return balance - money\n",
    "    else:\n",
    "        print(\"출금이 완료 되지 않았습니다.잔액은 {0}원 입니다.\".format(balance))\n",
    "        return balance\n",
    "\n",
    "def withdraw_night(balance,money): # 저녘에 출금\n",
    "    commision = 100 # 수수료 100원\n",
    "    return commision, balance - money - commision\n",
    "\n",
    "# 입금 예제제\n",
    "balance = 0\n",
    "balance = deposit(balance,1000)\n",
    "print(balance)\n",
    "\n",
    "# 출금 예제\n",
    "balance = 0\n",
    "balance = deposit(balance,1000)\n",
    "balance = withdraw(balance,500)\n",
    "\n",
    "\n",
    "# 수수료 출금 예제\n",
    "balance = deposit(balance,1000)\n",
    "commision,balance = withdraw_night(balance,500)\n",
    "print(\"수수료는 {0}원이며, 잔액은 {1}원 입니다.\".format(commision,balance))"
   ]
  },
  {
   "cell_type": "markdown",
   "id": "2ef195c1",
   "metadata": {},
   "source": [
    "# 기본값 설정"
   ]
  },
  {
   "cell_type": "code",
   "execution_count": 27,
   "id": "3ce49a0d",
   "metadata": {},
   "outputs": [
    {
     "name": "stdout",
     "output_type": "stream",
     "text": [
      "이름: 유재석\t나이: 17\t주 사용 언어: 파이썬\n",
      "이름: 김태호\t나이: 17\t주 사용 언어: 파이썬\n"
     ]
    }
   ],
   "source": [
    "# def profile(name, age, main_lang):\n",
    "#     print(\"이름: {0}\\n나이: {1}\\n주 사용 언어: {2}\"\\\n",
    "#         .format(name,age,main_lang))\n",
    "\n",
    "# profile(\"유재석\",20,\"파이썬\")\n",
    "# profile(\"김태호\",25,\"자바\")\n",
    "\n",
    "# 같은 학교 같은 학년 같은 반 같은 수업.\n",
    "def profile(name, age=17, main_lang=\"파이썬\"):\n",
    "    print(\"이름: {0}\\t나이: {1}\\t주 사용 언어: {2}\"\\\n",
    "        .format(name,age,main_lang))\n",
    "    \n",
    "profile(\"유재석\")\n",
    "profile(\"김태호\")"
   ]
  },
  {
   "cell_type": "markdown",
   "id": "435e2f4a",
   "metadata": {},
   "source": [
    "## 키워드 값을 이용한 함수 호출"
   ]
  },
  {
   "cell_type": "code",
   "execution_count": null,
   "id": "f11ecdb7",
   "metadata": {},
   "outputs": [
    {
     "name": "stdout",
     "output_type": "stream",
     "text": [
      "유재석 20 파이썬\n",
      "김태호 17 자바\n"
     ]
    }
   ],
   "source": [
    "def profile(name, age, main_lang):\n",
    "    print(name,age,main_lang)\n",
    "\n",
    "#순서가 섞여도 호출 가능\n",
    "    \n",
    "profile(name=\"유재석\",age=20,main_lang=\"파이썬\")\n",
    "profile(main_lang=\"자바\",name=\"김태호\",age=17)"
   ]
  },
  {
   "cell_type": "markdown",
   "id": "571108ee",
   "metadata": {},
   "source": [
    "## 가변인자를 활용한 함수 호출"
   ]
  },
  {
   "cell_type": "code",
   "execution_count": 34,
   "id": "833d6f30",
   "metadata": {},
   "outputs": [
    {
     "name": "stdout",
     "output_type": "stream",
     "text": [
      "이름: 유재석\t나이: 20\t Python Java C C++ C#\n",
      "이름: 김태호\t나이: 20\t Kotlin Swift   \n"
     ]
    }
   ],
   "source": [
    "def profile(name, age, lang1, lang2, lang3, lang4, lang5):\n",
    "    # end를 사용하면 밑에 있는 문장을 계속 출력하겠다는 뜻\n",
    "    print(\"이름: {0}\\t나이: {1}\\t\".format(name,age),end=\" \")\n",
    "    print(lang1,lang2,lang3,lang4,lang5)\n",
    "\n",
    "profile(\"유재석\",20,\"Python\",\"Java\",\"C\",\"C++\",\"C#\")\n",
    "profile(\"김태호\",20,\"Kotlin\",\"Swift\",\"\",\"\",\"\")\n"
   ]
  },
  {
   "cell_type": "code",
   "execution_count": 38,
   "id": "8373216f",
   "metadata": {},
   "outputs": [
    {
     "name": "stdout",
     "output_type": "stream",
     "text": [
      "이름: 유재석\t나이: 20\t Python Java C C++ C# javascript \n",
      "이름: 김태호\t나이: 20\t Kotlin Swift    \n"
     ]
    }
   ],
   "source": [
    "def profile(name, age,*language): # *을 사용해 넣고 싶은만큼 인자를 넣음\n",
    "    print(\"이름: {0}\\t나이: {1}\\t\".format(name,age),end=\" \")\n",
    "    for lang in language:\n",
    "        print(lang,end=\" \")\n",
    "    print()\n",
    "profile(\"유재석\",20,\"Python\",\"Java\",\"C\",\"C++\",\"C#\",\"javascript\")\n",
    "profile(\"김태호\",20,\"Kotlin\",\"Swift\",\"\",\"\",\"\")"
   ]
  },
  {
   "cell_type": "markdown",
   "id": "b77dd903",
   "metadata": {},
   "source": [
    "# 지역변수와 전역변수"
   ]
  },
  {
   "cell_type": "code",
   "execution_count": 39,
   "id": "b1dc8443",
   "metadata": {},
   "outputs": [],
   "source": [
    "# 지역 변수: 함수 내에서만 사용하는 변수\n",
    "# 전역 변수: 프로그램 내에서 어디서든 부를 수 있는 변수"
   ]
  },
  {
   "cell_type": "code",
   "execution_count": null,
   "id": "9dd417e4",
   "metadata": {},
   "outputs": [
    {
     "name": "stdout",
     "output_type": "stream",
     "text": [
      "전체 총: 10\n",
      "[함수 내] 남은 총: 18\n",
      "남은 총: 10\n"
     ]
    }
   ],
   "source": [
    "# 지역 변수\n",
    "\n",
    "gun= 10\n",
    "\n",
    "def checkpoint(soliders): # 근무 나가는 군인 수\n",
    "    gun = 20 \n",
    "    gun = gun - soliders\n",
    "    print(\"[함수 내] 남은 총: {0}\".format(gun))\n",
    "    \n",
    "print(\"전체 총: {0}\".format(gun))\n",
    "checkpoint(2) # 2명이 근무 나감.\n",
    "print(\"남은 총: {0}\".format(gun))"
   ]
  },
  {
   "cell_type": "code",
   "execution_count": null,
   "id": "6b4850ae",
   "metadata": {},
   "outputs": [
    {
     "name": "stdout",
     "output_type": "stream",
     "text": [
      "전체 총: 10\n",
      "[함수 내] 남은 총: 8\n",
      "남은 총: 8\n"
     ]
    }
   ],
   "source": [
    "# 전역 변수 사용해보기\n",
    "# global -> 사용\n",
    "\n",
    "gun= 10\n",
    "\n",
    "def checkpoint(soliders): # 근무 나가는 군인 수\n",
    "    global gun # 전역 공간에 있는 gun 사용\n",
    "    gun = gun - soliders\n",
    "    print(\"[함수 내] 남은 총: {0}\".format(gun))\n",
    "    \n",
    "print(\"전체 총: {0}\".format(gun))\n",
    "checkpoint(2) # 2명이 근무 나감.\n",
    "print(\"남은 총: {0}\".format(gun))"
   ]
  },
  {
   "cell_type": "code",
   "execution_count": 48,
   "id": "4595d49d",
   "metadata": {},
   "outputs": [
    {
     "name": "stdout",
     "output_type": "stream",
     "text": [
      "전체 총: 10\n",
      "[함수 내] 남은 총: 8\n",
      "남은 총: 8\n"
     ]
    }
   ],
   "source": [
    "gun = 10\n",
    "\n",
    "def checkpoint_ret(gun,soliders):\n",
    "    gun = gun - soliders # 지역변수\n",
    "    print(\"[함수 내] 남은 총: {0}\".format(gun))\n",
    "    return gun\n",
    "\n",
    "print(\"전체 총: {0}\".format(gun))\n",
    "gun= checkpoint_ret(gun,2)\n",
    "print(\"남은 총: {0}\".format(gun))"
   ]
  },
  {
   "cell_type": "code",
   "execution_count": null,
   "id": "d51e7959",
   "metadata": {},
   "outputs": [],
   "source": []
  }
 ],
 "metadata": {
  "kernelspec": {
   "display_name": "Python 3",
   "language": "python",
   "name": "python3"
  },
  "language_info": {
   "codemirror_mode": {
    "name": "ipython",
    "version": 3
   },
   "file_extension": ".py",
   "mimetype": "text/x-python",
   "name": "python",
   "nbconvert_exporter": "python",
   "pygments_lexer": "ipython3",
   "version": "3.11.7"
  }
 },
 "nbformat": 4,
 "nbformat_minor": 5
}
