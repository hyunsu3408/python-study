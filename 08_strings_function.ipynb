{
 "cells": [
  {
   "cell_type": "markdown",
   "id": "453c4ca1",
   "metadata": {},
   "source": [
    "# 문자열 처리 함수"
   ]
  },
  {
   "cell_type": "code",
   "execution_count": 20,
   "id": "2a736c6f",
   "metadata": {},
   "outputs": [
    {
     "name": "stdout",
     "output_type": "stream",
     "text": [
      "python is amazing\n",
      "PYTHON IS AMAZING\n",
      "True\n",
      "17\n",
      "Java is Amazing\n",
      "5\n",
      "15\n",
      "-1\n",
      "2\n"
     ]
    }
   ],
   "source": [
    "python = \"Python is Amazing\"\n",
    "\n",
    "print(python.lower()) # 문자를 모두 소문자로\n",
    "print(python.upper()) # 문자를 모두 대문자로\n",
    "\n",
    "# isupper() 대문자가 맏는지 묻는 것(반환은 불린형)\n",
    "print(python[0].isupper()) \n",
    "\n",
    "# 문자의 길이를 반환\n",
    "print(len(python))\n",
    "\n",
    "# 특정 문자를 변경\n",
    "print(python.replace(\"Python\",\"Java\"))\n",
    "\n",
    "# 특정 문자가 몇번째 인덱스에 위치하는지지\n",
    "index = python.index(\"n\")\n",
    "print(index)\n",
    "\n",
    "# 특정 문자의 두번째 위치를 찾는 것것\n",
    "index = python.index(\"n\",index+1)\n",
    "print(index)\n",
    "\n",
    "# 특정 문자를 찾지만 없으면 음수 반환을 함함\n",
    "print(python.find(\"Java\"))\n",
    "\n",
    "# print(python.index(\"Java\")) -> 특정 문자가 없으면 오류\n",
    "\n",
    "# 특정 문자가 몇개 있는지 알려준다다\n",
    "print(python.count(\"n\"))"
   ]
  },
  {
   "cell_type": "markdown",
   "id": "c31829e6",
   "metadata": {},
   "source": [
    "# 문자열 포맷"
   ]
  },
  {
   "cell_type": "code",
   "execution_count": 33,
   "id": "1441a1b8",
   "metadata": {},
   "outputs": [
    {
     "name": "stdout",
     "output_type": "stream",
     "text": [
      "나는 20살입니다\n",
      "나는 파이썬살입니다\n",
      "Apple 은 A로 시작해요\n",
      "나는 파란색과 빨간색을 좋아해요\n",
      "나는 20살 입니다\n",
      "나는 파란색과 빨간색을 좋아해요\n",
      "나는 파란색과 빨간색을 좋아해요\n",
      "나는 빨간색과 파란색을 좋아해요\n",
      "나는 20살이며, 빨간색을 좋아해요\n",
      "나는 20살이며, 빨간색을 좋아해요\n",
      "나는 20살이며, 빨간색을 좋아해요\n"
     ]
    }
   ],
   "source": [
    "# print(\"a\"+\"b\")\n",
    "# print(\"a\",\"b\")\n",
    "\n",
    "#방법 1\n",
    "print(\"나는 %d살입니다\" %20) #정수\n",
    "print(\"나는 %s살입니다\" %\"파이썬\") #문자열\n",
    "print(\"Apple 은 %c로 시작해요\" %\"A\") #한 글자\n",
    "print(\"나는 %s색과 %s색을 좋아해요\" %(\"파란\",\"빨간\")) #한 글자\n",
    "\n",
    "# 방법 2\n",
    "print(\"나는 {}살 입니다\".format(20))\n",
    "print(\"나는 {}색과 {}색을 좋아해요\" .format(\"파란\",\"빨간\")) #한 글자\n",
    "print(\"나는 {0}색과 {1}색을 좋아해요\" .format(\"파란\",\"빨간\")) #한 글자\n",
    "print(\"나는 {1}색과 {0}색을 좋아해요\" .format(\"파란\",\"빨간\")) #한 글자\n",
    "\n",
    "# 방법 3\n",
    "print(\"나는 {age}살이며, {color}색을 좋아해요\".format(age=20,color=\"빨간\"))\n",
    "print(\"나는 {age}살이며, {color}색을 좋아해요\".format(color=\"빨간\",age=20))\n",
    "\n",
    "# 방법 4 (v3.6 이상)\n",
    "# 실제 변수 가져오기\n",
    "age = 20\n",
    "color = \"빨간\"\n",
    "\n",
    "print(f\"나는 {age}살이며, {color}색을 좋아해요\")"
   ]
  },
  {
   "cell_type": "code",
   "execution_count": null,
   "id": "361c851e",
   "metadata": {},
   "outputs": [],
   "source": []
  }
 ],
 "metadata": {
  "kernelspec": {
   "display_name": "Python 3",
   "language": "python",
   "name": "python3"
  },
  "language_info": {
   "codemirror_mode": {
    "name": "ipython",
    "version": 3
   },
   "file_extension": ".py",
   "mimetype": "text/x-python",
   "name": "python",
   "nbconvert_exporter": "python",
   "pygments_lexer": "ipython3",
   "version": "3.11.7"
  }
 },
 "nbformat": 4,
 "nbformat_minor": 5
}
