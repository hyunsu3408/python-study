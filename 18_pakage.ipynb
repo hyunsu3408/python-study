{
 "cells": [
  {
   "cell_type": "markdown",
   "id": "a6f2a371",
   "metadata": {},
   "source": [
    "# 패키지 사용해보기"
   ]
  },
  {
   "cell_type": "code",
   "execution_count": 6,
   "id": "ce2af5f4",
   "metadata": {},
   "outputs": [
    {
     "name": "stdout",
     "output_type": "stream",
     "text": [
      "[태국 패키지 3박 5일]방콕, 파타야 여행 50만원\n"
     ]
    }
   ],
   "source": [
    "import travel.thailand\n",
    "\n",
    "trip_to = travel.thailand.ThailandPackage()\n",
    "trip_to.detail()"
   ]
  },
  {
   "cell_type": "code",
   "execution_count": null,
   "id": "a261b26e",
   "metadata": {},
   "outputs": [
    {
     "name": "stdout",
     "output_type": "stream",
     "text": [
      "[태국 패키지 3박 5일]방콕, 파타야 여행 50만원\n"
     ]
    }
   ],
   "source": [
    "from travel.thailand import ThailandPackage\n",
    "\n",
    "trip_to = ThailandPackage()\n",
    "trip_to.detail()"
   ]
  },
  {
   "cell_type": "code",
   "execution_count": 11,
   "id": "f5439822",
   "metadata": {},
   "outputs": [
    {
     "name": "stdout",
     "output_type": "stream",
     "text": [
      "[베트남 패키지 3박 5일] 다낭 효도 여행 60만원\n"
     ]
    }
   ],
   "source": [
    "from travel import vietnam\n",
    "\n",
    "trip_vt = vietnam.VietnamPackage()\n",
    "trip_vt.detail()"
   ]
  },
  {
   "cell_type": "code",
   "execution_count": null,
   "id": "21ec1b25",
   "metadata": {},
   "outputs": [],
   "source": []
  }
 ],
 "metadata": {
  "kernelspec": {
   "display_name": "base",
   "language": "python",
   "name": "python3"
  },
  "language_info": {
   "codemirror_mode": {
    "name": "ipython",
    "version": 3
   },
   "file_extension": ".py",
   "mimetype": "text/x-python",
   "name": "python",
   "nbconvert_exporter": "python",
   "pygments_lexer": "ipython3",
   "version": "3.11.7"
  }
 },
 "nbformat": 4,
 "nbformat_minor": 5
}
