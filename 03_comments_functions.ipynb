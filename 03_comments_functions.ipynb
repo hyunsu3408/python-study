{
 "cells": [
  {
   "cell_type": "markdown",
   "id": "ad9a1d97",
   "metadata": {},
   "source": [
    "# 주석"
   ]
  },
  {
   "cell_type": "code",
   "execution_count": null,
   "id": "ad378ea7",
   "metadata": {},
   "outputs": [],
   "source": [
    "# 여러문장을 주석처리 하고 싶을 때는\n",
    "'''\n",
    "이렇게\n",
    "작은 따음표\n",
    "3개를 한다.\n",
    "'''\n",
    "\n",
    "# 여러 줄을 한번에 주석 처리 하는 법\n",
    "# ctrl + /\n",
    "\n",
    "# 기본 주석\n",
    "# 문장 앞에 #을 붙히면 됨됨"
   ]
  }
 ],
 "metadata": {},
 "nbformat": 4,
 "nbformat_minor": 5
}
