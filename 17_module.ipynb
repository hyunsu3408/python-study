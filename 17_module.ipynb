{
 "cells": [
  {
   "cell_type": "markdown",
   "id": "c67eb88c",
   "metadata": {},
   "source": [
    "# module.py 불러오기"
   ]
  },
  {
   "cell_type": "code",
   "execution_count": 1,
   "id": "bccd9c47",
   "metadata": {},
   "outputs": [
    {
     "name": "stdout",
     "output_type": "stream",
     "text": [
      "3명 가격은 30000원 입니다\n",
      "4명 조조 할인 가격은 24000원 입니다.\n",
      "5명 군인 할인 가격은 20000원 입니다.\n"
     ]
    }
   ],
   "source": [
    "import module\n",
    "\n",
    "module.price(3) # 3명이서 영화 보러 갔을 때 가격\n",
    "module.price_morning(4) # 3명이서 조조할인 영화 보러갔을때\n",
    "module.price_soldier(5) # 5명이서 군인이 영화 보러 갔을때"
   ]
  },
  {
   "cell_type": "code",
   "execution_count": 5,
   "id": "2a079ad0",
   "metadata": {},
   "outputs": [
    {
     "name": "stdout",
     "output_type": "stream",
     "text": [
      "2명 가격은 20000원 입니다\n",
      "4명 조조 할인 가격은 24000원 입니다.\n",
      "5명 군인 할인 가격은 20000원 입니다.\n"
     ]
    }
   ],
   "source": [
    "import module as md\n",
    "\n",
    "md.price(2)\n",
    "md.price_morning(4)\n",
    "md.price_soldier(5)"
   ]
  },
  {
   "cell_type": "code",
   "execution_count": 3,
   "id": "a49eaf7b",
   "metadata": {},
   "outputs": [
    {
     "name": "stdout",
     "output_type": "stream",
     "text": [
      "3명 가격은 30000원 입니다\n",
      "4명 조조 할인 가격은 24000원 입니다.\n",
      "5명 군인 할인 가격은 20000원 입니다.\n"
     ]
    }
   ],
   "source": [
    "from module import *\n",
    "\n",
    "price(3)\n",
    "price_morning(4)\n",
    "price_soldier(5)"
   ]
  },
  {
   "cell_type": "code",
   "execution_count": 17,
   "id": "4965067a",
   "metadata": {},
   "outputs": [
    {
     "name": "stdout",
     "output_type": "stream",
     "text": [
      "3명 가격은 30000원 입니다\n",
      "4명 조조 할인 가격은 24000원 입니다.\n"
     ]
    }
   ],
   "source": [
    "from module import price, price_morning\n",
    "\n",
    "price(3)\n",
    "price_morning(4)"
   ]
  },
  {
   "cell_type": "code",
   "execution_count": null,
   "id": "730e25bb",
   "metadata": {},
   "outputs": [
    {
     "name": "stdout",
     "output_type": "stream",
     "text": [
      "4명 군인 할인 가격은 16000원 입니다.\n"
     ]
    }
   ],
   "source": [
    "from module import price_soldier as ps\n",
    "\n",
    "ps(4)"
   ]
  }
 ],
 "metadata": {
  "kernelspec": {
   "display_name": "base",
   "language": "python",
   "name": "python3"
  },
  "language_info": {
   "codemirror_mode": {
    "name": "ipython",
    "version": 3
   },
   "file_extension": ".py",
   "mimetype": "text/x-python",
   "name": "python",
   "nbconvert_exporter": "python",
   "pygments_lexer": "ipython3",
   "version": "3.11.7"
  }
 },
 "nbformat": 4,
 "nbformat_minor": 5
}
